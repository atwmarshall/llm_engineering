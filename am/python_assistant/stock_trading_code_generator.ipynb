{
 "cells": [
  {
   "cell_type": "code",
   "execution_count": 1,
   "id": "b3f209aa-df4e-4849-accd-1fb38747e770",
   "metadata": {},
   "outputs": [],
   "source": [
    "import os\n",
    "from dotenv import load_dotenv\n",
    "from openai import OpenAI"
   ]
  },
  {
   "cell_type": "code",
   "execution_count": 2,
   "id": "c980b600-7428-4311-a7c2-72c28b478789",
   "metadata": {},
   "outputs": [],
   "source": [
    "stock_api_documentation_link = \"https://www.alphavantage.co/documentation/\"\n",
    "FREE_API_KEY = \"FNEL5EBKM4AQFBB6\""
   ]
  },
  {
   "cell_type": "code",
   "execution_count": 3,
   "id": "5e6a8abb-35b7-46c1-8b04-6e75f46a56bd",
   "metadata": {},
   "outputs": [],
   "source": [
    "# environment\n",
    "\n",
    "load_dotenv()\n",
    "os.environ['OPENAI_API_KEY'] = os.getenv('OPENAI_API_KEY', 'your-key-if-not-using-env')\n",
    "os.environ['ANTHROPIC_API_KEY'] = os.getenv('ANTHROPIC_API_KEY', 'your-key-if-not-using-env')"
   ]
  },
  {
   "cell_type": "code",
   "execution_count": 4,
   "id": "28f5fa30-b018-4fd2-a23d-60b12a4f8e0a",
   "metadata": {},
   "outputs": [],
   "source": [
    "# initialize\n",
    "\n",
    "openai = OpenAI()\n",
    "OPENAI_MODEL = \"gpt-4o-mini\"\n"
   ]
  },
  {
   "cell_type": "code",
   "execution_count": 5,
   "id": "9a0b6467-197f-4f4a-b964-314ee2639ee9",
   "metadata": {},
   "outputs": [],
   "source": [
    "system_message = \"You are an assistant that writes Python code for trading stocks.\"\n",
    "system_message += \"Make a clear plan for how you set out to trade stocks using comments and then add code to achieve each step below.\"\n",
    "system_message += \"Be concise, and clear.\""
   ]
  },
  {
   "cell_type": "code",
   "execution_count": 6,
   "id": "4a5a4ef2-2141-49ef-b762-1c6ac9d290e5",
   "metadata": {},
   "outputs": [],
   "source": [
    "def user_prompt_for(api_documentation):\n",
    "    user_prompt = f\"Generate python code for trading stocks using this api documented on this website: {api_documentation}\"\n",
    "    user_prompt += \"Make a clear plan of attack and add the code to achieve each step in the plan\"\n",
    "    user_prompt += \"an API_KEY will be needed so add a constant as a placeholder for it.\\n\\n\"\n",
    "    return user_prompt"
   ]
  },
  {
   "cell_type": "code",
   "execution_count": 7,
   "id": "2eb8a531-220c-40ca-80f9-41ee0fbd84e6",
   "metadata": {},
   "outputs": [],
   "source": [
    "def messages_for(api_documentation):\n",
    "    return [\n",
    "        {\"role\": \"system\", \"content\": system_message},\n",
    "        {\"role\": \"user\", \"content\": user_prompt_for(api_documentation)}\n",
    "    ]"
   ]
  },
  {
   "cell_type": "code",
   "execution_count": 8,
   "id": "17eed2f6-11a2-4719-9506-e49ca26c63e1",
   "metadata": {},
   "outputs": [],
   "source": [
    "# write to a file called optimized.cpp\n",
    "\n",
    "def write_output(api_documentation):\n",
    "    code = api_documentation.replace(\"```python\",\"\").replace(\"```\",\"\")\n",
    "    with open(\"stocks.py\", \"w\") as f:\n",
    "        f.write(code)"
   ]
  },
  {
   "cell_type": "code",
   "execution_count": 9,
   "id": "cdda9a72-f915-4e59-a88c-5ceed7cb15ec",
   "metadata": {},
   "outputs": [],
   "source": [
    "def stocks_gpt(api_documentation):    \n",
    "    stream = openai.chat.completions.create(model=OPENAI_MODEL, messages=messages_for(api_documentation), stream=True)\n",
    "    reply = \"\"\n",
    "    for chunk in stream:\n",
    "        fragment = chunk.choices[0].delta.content or \"\"\n",
    "        reply += fragment\n",
    "        print(fragment, end='', flush=True)\n",
    "    write_output(reply)"
   ]
  },
  {
   "cell_type": "code",
   "execution_count": 10,
   "id": "c1a50eb4-6c2e-4fe2-8302-cb6133307508",
   "metadata": {},
   "outputs": [
    {
     "name": "stdout",
     "output_type": "stream",
     "text": [
      "To create a stock trading application using the Alpha Vantage API, we will follow a structured plan. Below, I will detail the steps involved and provide the corresponding Python code.\n",
      "\n",
      "### Plan of Attack\n",
      "\n",
      "1. **Import Necessary Libraries**\n",
      "   - Import libraries to handle HTTP requests and data.\n",
      "\n",
      "2. **Define Constants**\n",
      "   - Set up the API key, base URL, and other constants required for making requests.\n",
      "\n",
      "3. **Fetch Stock Data**\n",
      "   - Create a function to fetch stock data from Alpha Vantage using the appropriate API endpoint.\n",
      "\n",
      "4. **Analyze Stock Data**\n",
      "   - Write a function to analyze the stock data for trading signals (e.g., moving averages).\n",
      "\n",
      "5. **Trade Decision**\n",
      "   - Implement logic to decide whether to buy, sell, or hold based on the analysis.\n",
      "\n",
      "6. **Execute Trading Orders**\n",
      "   - Set up a function to execute trading orders based on the decision made (note: this will be a placeholder in this context).\n",
      "\n",
      "### Python Code Implementation\n",
      "\n",
      "```python\n",
      "import requests\n",
      "\n",
      "# Step 2: Define Constants\n",
      "API_KEY = 'YOUR_API_KEY'  # Replace with your actual Alpha Vantage API key\n",
      "BASE_URL = 'https://www.alphavantage.co/query'\n",
      "SYMBOL = 'AAPL'  # Stock symbol to trade\n",
      "TIME_INTERVAL = '1min'  # Time interval for the stock data\n",
      "OUTPUTSIZE = 'compact'  # Use 'full' for more data\n",
      "\n",
      "# Step 3: Fetch Stock Data\n",
      "def fetch_stock_data(symbol):\n",
      "    params = {\n",
      "        'function': 'TIME_SERIES_INTRADAY',\n",
      "        'symbol': symbol,\n",
      "        'interval': TIME_INTERVAL,\n",
      "        'apikey': API_KEY,\n",
      "        'outputsize': OUTPUTSIZE\n",
      "    }\n",
      "    response = requests.get(BASE_URL, params=params)\n",
      "    data = response.json()\n",
      "    return data\n",
      "\n",
      "# Step 4: Analyze Stock Data\n",
      "def analyze_data(data):\n",
      "    time_series_key = 'Time Series (' + TIME_INTERVAL + ')'\n",
      "    \n",
      "    if time_series_key not in data:\n",
      "        print(\"Error: Invalid response from Alpha Vantage.\")\n",
      "        return None\n",
      "\n",
      "    time_series = data[time_series_key]\n",
      "    prices = [(timestamp, float(values['1. open'])) for timestamp, values in time_series.items()]\n",
      "    \n",
      "    # Calculate a simple moving average for the last 5 prices\n",
      "    if len(prices) < 5:\n",
      "        print(\"Not enough data to analyze.\")\n",
      "        return None\n",
      "    \n",
      "    average_price = sum(price[1] for price in prices[:5]) / 5  # Simple moving average\n",
      "    current_price = prices[0][1]  # Current price\n",
      "    return average_price, current_price\n",
      "\n",
      "# Step 5: Trade Decision\n",
      "def make_trade_decision(average_price, current_price):\n",
      "    if current_price < average_price:\n",
      "        return \"Buy\"\n",
      "    elif current_price > average_price:\n",
      "        return \"Sell\"\n",
      "    else:\n",
      "        return \"Hold\"\n",
      "\n",
      "# Step 6: Execute Trading Orders (Placeholder)\n",
      "def execute_trade(decision):\n",
      "    print(f\"Executing trade: {decision}\")\n",
      "\n",
      "# Main execution\n",
      "if __name__ == \"__main__\":\n",
      "    stock_data = fetch_stock_data(SYMBOL)\n",
      "    analysis_result = analyze_data(stock_data)\n",
      "    \n",
      "    if analysis_result is not None:\n",
      "        average_price, current_price = analysis_result\n",
      "        print(f\"Average Price: {average_price}, Current Price: {current_price}\")\n",
      "        trade_decision = make_trade_decision(average_price, current_price)\n",
      "        execute_trade(trade_decision)\n",
      "```\n",
      "\n",
      "### Explanation of the Code\n",
      "1. **Imports**: We import the `requests` library for making HTTP requests.\n",
      "2. **Constants**: These help us avoid hardcoding values and increase readability.\n",
      "3. **Fetch Stock Data**: We create a function that constructs a request to fetch stock data.\n",
      "4. **Analyze Data**: This function computes a simple moving average to determine if the stock's current price suggests a buy or sell.\n",
      "5. **Trade Decision**: Based on the analysis, we derive a trade decision (buy, sell, hold).\n",
      "6. **Execute Trade**: This function prints the action to be taken (currently a placeholder).\n",
      "\n",
      "> **Note**: Please replace `'YOUR_API_KEY'` with an actual Alpha Vantage API key for the code to work."
     ]
    },
    {
     "ename": "NameError",
     "evalue": "name 'python' is not defined",
     "output_type": "error",
     "traceback": [
      "\u001b[0;31m---------------------------------------------------------------------------\u001b[0m",
      "\u001b[0;31mNameError\u001b[0m                                 Traceback (most recent call last)",
      "Cell \u001b[0;32mIn[10], line 1\u001b[0m\n\u001b[0;32m----> 1\u001b[0m \u001b[43mstocks_gpt\u001b[49m\u001b[43m(\u001b[49m\u001b[43mstock_api_documentation_link\u001b[49m\u001b[43m)\u001b[49m\n",
      "Cell \u001b[0;32mIn[9], line 8\u001b[0m, in \u001b[0;36mstocks_gpt\u001b[0;34m(api_documentation)\u001b[0m\n\u001b[1;32m      6\u001b[0m     reply \u001b[38;5;241m+\u001b[39m\u001b[38;5;241m=\u001b[39m fragment\n\u001b[1;32m      7\u001b[0m     \u001b[38;5;28mprint\u001b[39m(fragment, end\u001b[38;5;241m=\u001b[39m\u001b[38;5;124m'\u001b[39m\u001b[38;5;124m'\u001b[39m, flush\u001b[38;5;241m=\u001b[39m\u001b[38;5;28;01mTrue\u001b[39;00m)\n\u001b[0;32m----> 8\u001b[0m \u001b[43mwrite_output\u001b[49m\u001b[43m(\u001b[49m\u001b[43mreply\u001b[49m\u001b[43m)\u001b[49m\n",
      "Cell \u001b[0;32mIn[8], line 4\u001b[0m, in \u001b[0;36mwrite_output\u001b[0;34m(api_documentation)\u001b[0m\n\u001b[1;32m      3\u001b[0m \u001b[38;5;28;01mdef\u001b[39;00m \u001b[38;5;21mwrite_output\u001b[39m(api_documentation):\n\u001b[0;32m----> 4\u001b[0m     code \u001b[38;5;241m=\u001b[39m \u001b[43mpython\u001b[49m\u001b[38;5;241m.\u001b[39mreplace(\u001b[38;5;124m\"\u001b[39m\u001b[38;5;124m```python\u001b[39m\u001b[38;5;124m\"\u001b[39m,\u001b[38;5;124m\"\u001b[39m\u001b[38;5;124m\"\u001b[39m)\u001b[38;5;241m.\u001b[39mreplace(\u001b[38;5;124m\"\u001b[39m\u001b[38;5;124m```\u001b[39m\u001b[38;5;124m\"\u001b[39m,\u001b[38;5;124m\"\u001b[39m\u001b[38;5;124m\"\u001b[39m)\n\u001b[1;32m      5\u001b[0m     \u001b[38;5;28;01mwith\u001b[39;00m \u001b[38;5;28mopen\u001b[39m(\u001b[38;5;124m\"\u001b[39m\u001b[38;5;124mstocks.py\u001b[39m\u001b[38;5;124m\"\u001b[39m, \u001b[38;5;124m\"\u001b[39m\u001b[38;5;124mw\u001b[39m\u001b[38;5;124m\"\u001b[39m) \u001b[38;5;28;01mas\u001b[39;00m f:\n\u001b[1;32m      6\u001b[0m         f\u001b[38;5;241m.\u001b[39mwrite(code)\n",
      "\u001b[0;31mNameError\u001b[0m: name 'python' is not defined"
     ]
    }
   ],
   "source": [
    "stocks_gpt(stock_api_documentation_link)"
   ]
  },
  {
   "cell_type": "code",
   "execution_count": null,
   "id": "c7ba2775-c564-4d09-853c-5f9616db5a7f",
   "metadata": {},
   "outputs": [],
   "source": []
  }
 ],
 "metadata": {
  "kernelspec": {
   "display_name": "Python 3 (ipykernel)",
   "language": "python",
   "name": "python3"
  },
  "language_info": {
   "codemirror_mode": {
    "name": "ipython",
    "version": 3
   },
   "file_extension": ".py",
   "mimetype": "text/x-python",
   "name": "python",
   "nbconvert_exporter": "python",
   "pygments_lexer": "ipython3",
   "version": "3.12.6"
  }
 },
 "nbformat": 4,
 "nbformat_minor": 5
}
