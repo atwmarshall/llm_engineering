{
 "cells": [
  {
   "cell_type": "code",
   "execution_count": 3,
   "id": "b3f209aa-df4e-4849-accd-1fb38747e770",
   "metadata": {},
   "outputs": [],
   "source": [
    "import os\n",
    "from dotenv import load_dotenv\n",
    "from openai import OpenAI"
   ]
  },
  {
   "cell_type": "code",
   "execution_count": 14,
   "id": "c980b600-7428-4311-a7c2-72c28b478789",
   "metadata": {},
   "outputs": [],
   "source": [
    "examples_of_data = '''flower:True, flower_type:sunflower, colour:yellow; flower:False, flower_type:n/a, colour:n/a\n",
    "'''\n",
    "gen_sample_size = 100"
   ]
  },
  {
   "cell_type": "code",
   "execution_count": 5,
   "id": "5e6a8abb-35b7-46c1-8b04-6e75f46a56bd",
   "metadata": {},
   "outputs": [],
   "source": [
    "# environment\n",
    "\n",
    "load_dotenv()\n",
    "os.environ['OPENAI_API_KEY'] = os.getenv('OPENAI_API_KEY', 'your-key-if-not-using-env')\n",
    "os.environ['ANTHROPIC_API_KEY'] = os.getenv('ANTHROPIC_API_KEY', 'your-key-if-not-using-env')"
   ]
  },
  {
   "cell_type": "code",
   "execution_count": 6,
   "id": "28f5fa30-b018-4fd2-a23d-60b12a4f8e0a",
   "metadata": {},
   "outputs": [],
   "source": [
    "# initialize\n",
    "\n",
    "openai = OpenAI()\n",
    "OPENAI_MODEL = \"gpt-4o-mini\"\n"
   ]
  },
  {
   "cell_type": "code",
   "execution_count": 8,
   "id": "9a0b6467-197f-4f4a-b964-314ee2639ee9",
   "metadata": {},
   "outputs": [],
   "source": [
    "system_message = \"You are an assistant that generates sample data for testing purposes.\"\n",
    "system_message += \"Make python datastructures to best represent the data and generate a variety of examples of data.\\n\\n\""
   ]
  },
  {
   "cell_type": "code",
   "execution_count": 10,
   "id": "4a5a4ef2-2141-49ef-b762-1c6ac9d290e5",
   "metadata": {},
   "outputs": [],
   "source": [
    "def user_prompt_for(examples_of_data, gen_sample_size):\n",
    "    user_prompt = f\"Generate {gen_sample_size} number of sample data, here are some examples: {examples_of_data}\"\n",
    "    user_prompt += \"Make a python datastructure to efficiently and usefully store the data\\n\\n\"\n",
    "    return user_prompt"
   ]
  },
  {
   "cell_type": "code",
   "execution_count": 11,
   "id": "2eb8a531-220c-40ca-80f9-41ee0fbd84e6",
   "metadata": {},
   "outputs": [],
   "source": [
    "def messages_for(examples_of_data, gen_sample_size):\n",
    "    return [\n",
    "        {\"role\": \"system\", \"content\": system_message},\n",
    "        {\"role\": \"user\", \"content\": user_prompt_for(examples_of_data, gen_sample_size)}\n",
    "    ]"
   ]
  },
  {
   "cell_type": "code",
   "execution_count": 12,
   "id": "17eed2f6-11a2-4719-9506-e49ca26c63e1",
   "metadata": {},
   "outputs": [],
   "source": [
    "# write to a file called optimized.cpp\n",
    "\n",
    "def write_output(output):\n",
    "    code = output.replace(\"```python\",\"\").replace(\"```\",\"\")\n",
    "    with open(\"generated_dataset.py\", \"w\") as f:\n",
    "        f.write(code)"
   ]
  },
  {
   "cell_type": "code",
   "execution_count": 17,
   "id": "cdda9a72-f915-4e59-a88c-5ceed7cb15ec",
   "metadata": {},
   "outputs": [],
   "source": [
    "def gen_sample_data__gpt(examples_of_data, gen_sample_size):    \n",
    "    stream = openai.chat.completions.create(model=OPENAI_MODEL, messages=messages_for(examples_of_data, gen_sample_size), stream=True)\n",
    "    reply = \"\"\n",
    "    for chunk in stream:\n",
    "        fragment = chunk.choices[0].delta.content or \"\"\n",
    "        reply += fragment\n",
    "        print(fragment, end='', flush=True)\n",
    "    write_output(reply)"
   ]
  },
  {
   "cell_type": "code",
   "execution_count": 18,
   "id": "c1a50eb4-6c2e-4fe2-8302-cb6133307508",
   "metadata": {},
   "outputs": [
    {
     "name": "stdout",
     "output_type": "stream",
     "text": [
      "To represent the sample data effectively in Python, we can use a list of dictionaries. Each dictionary will represent an individual record with the relevant attributes (`flower`, `flower_type`, and `colour`). This structure is easy to work with for tasks like filtering, modifying, and accessing data.\n",
      "\n",
      "Below is the implementation with the generation of 100 example records:\n",
      "\n",
      "```python\n",
      "import random\n",
      "\n",
      "# Sample flower types and colors\n",
      "flower_types = ['sunflower', 'rose', 'daisy', 'tulip', 'lily', 'orchid']\n",
      "colors = ['yellow', 'red', 'white', 'pink', 'purple', 'orange']\n",
      "\n",
      "# Function to generate sample data\n",
      "def generate_flower_data(num_records):\n",
      "    data = []\n",
      "    for _ in range(num_records):\n",
      "        flower_present = random.choice([True, False])\n",
      "        if flower_present:\n",
      "            flower_data = {\n",
      "                'flower': flower_present,\n",
      "                'flower_type': random.choice(flower_types),\n",
      "                'colour': random.choice(colors)\n",
      "            }\n",
      "        else:\n",
      "            flower_data = {\n",
      "                'flower': flower_present,\n",
      "                'flower_type': 'n/a',\n",
      "                'colour': 'n/a'\n",
      "            }\n",
      "        data.append(flower_data)\n",
      "    return data\n",
      "\n",
      "# Generate 100 records of sample data\n",
      "sample_flower_data = generate_flower_data(100)\n",
      "\n",
      "# Example output\n",
      "for record in sample_flower_data[:10]:  # Displaying first 10 records\n",
      "    print(record)\n",
      "```\n",
      "\n",
      "### Explanation:\n",
      "- **Data Structure**: We used a list to store multiple dictionaries; each dictionary contains keys for the attributes: `flower`, `flower_type`, and `colour`.\n",
      "- **Random Generation**: We used the `random` module to randomly choose whether a flower exists or not, as well as randomly select flower types and colors when applicable.\n",
      "- **Sample Output**: The loop at the end prints the first 10 records to give an insight into the generated data.\n",
      "\n",
      "This method allows for a structured yet flexible way to handle and manipulate the sample data."
     ]
    }
   ],
   "source": [
    "gen_sample_data__gpt(examples_of_data, gen_sample_size)"
   ]
  },
  {
   "cell_type": "code",
   "execution_count": null,
   "id": "c7ba2775-c564-4d09-853c-5f9616db5a7f",
   "metadata": {},
   "outputs": [],
   "source": []
  }
 ],
 "metadata": {
  "kernelspec": {
   "display_name": "Python 3 (ipykernel)",
   "language": "python",
   "name": "python3"
  },
  "language_info": {
   "codemirror_mode": {
    "name": "ipython",
    "version": 3
   },
   "file_extension": ".py",
   "mimetype": "text/x-python",
   "name": "python",
   "nbconvert_exporter": "python",
   "pygments_lexer": "ipython3",
   "version": "3.12.6"
  }
 },
 "nbformat": 4,
 "nbformat_minor": 5
}
