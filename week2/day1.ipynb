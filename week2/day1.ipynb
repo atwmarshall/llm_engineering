{
 "cells": [
  {
   "cell_type": "markdown",
   "id": "06cf3063-9f3e-4551-a0d5-f08d9cabb927",
   "metadata": {},
   "source": [
    "# Welcome to Week 2!\n",
    "\n",
    "## Frontier Model APIs\n",
    "\n",
    "In Week 1, we used multiple Frontier LLMs through their Chat UI, and we connected with the OpenAI's API.\n",
    "\n",
    "Today we'll connect with the APIs for Anthropic and Google, as well as OpenAI."
   ]
  },
  {
   "cell_type": "markdown",
   "id": "2b268b6e-0ba4-461e-af86-74a41f4d681f",
   "metadata": {},
   "source": [
    "<table style=\"margin: 0; text-align: left;\">\n",
    "    <tr>\n",
    "        <td style=\"width: 150px; height: 150px; vertical-align: middle;\">\n",
    "            <img src=\"../important.jpg\" width=\"150\" height=\"150\" style=\"display: block;\" />\n",
    "        </td>\n",
    "        <td>\n",
    "            <h2 style=\"color:#900;\">Important Note - Please read me</h2>\n",
    "            <span style=\"color:#900;\">I'm continually improving these labs, adding more examples and exercises.\n",
    "            At the start of each week, it's worth checking you have the latest code.<br/>\n",
    "            First do a <a href=\"https://chatgpt.com/share/6734e705-3270-8012-a074-421661af6ba9\">git pull and merge your changes as needed</a>. Any problems? Try asking ChatGPT to clarify how to merge - or contact me!<br/><br/>\n",
    "            After you've pulled the code, from the llm_engineering directory, in an Anaconda prompt (PC) or Terminal (Mac), run:<br/>\n",
    "            <code>conda env update --f environment.yml --prune</code><br/>\n",
    "            Or if you used virtualenv rather than Anaconda, then run this from your activated environment in a Powershell (PC) or Terminal (Mac):<br/>\n",
    "            <code>pip install -r requirements.txt</code>\n",
    "            <br/>Then restart the kernel (Kernel menu >> Restart Kernel and Clear Outputs Of All Cells) to pick up the changes.\n",
    "            </span>\n",
    "        </td>\n",
    "    </tr>\n",
    "</table>\n",
    "<table style=\"margin: 0; text-align: left;\">\n",
    "    <tr>\n",
    "        <td style=\"width: 150px; height: 150px; vertical-align: middle;\">\n",
    "            <img src=\"../resources.jpg\" width=\"150\" height=\"150\" style=\"display: block;\" />\n",
    "        </td>\n",
    "        <td>\n",
    "            <h2 style=\"color:#f71;\">Reminder about the resources page</h2>\n",
    "            <span style=\"color:#f71;\">Here's a link to resources for the course. This includes links to all the slides.<br/>\n",
    "            <a href=\"https://edwarddonner.com/2024/11/13/llm-engineering-resources/\">https://edwarddonner.com/2024/11/13/llm-engineering-resources/</a><br/>\n",
    "            Please keep this bookmarked, and I'll continue to add more useful links there over time.\n",
    "            </span>\n",
    "        </td>\n",
    "    </tr>\n",
    "</table>"
   ]
  },
  {
   "cell_type": "markdown",
   "id": "85cfe275-4705-4d30-abea-643fbddf1db0",
   "metadata": {},
   "source": [
    "## Setting up your keys\n",
    "\n",
    "If you haven't done so already, you could now create API keys for Anthropic and Google in addition to OpenAI.\n",
    "\n",
    "**Please note:** if you'd prefer to avoid extra API costs, feel free to skip setting up Anthopic and Google! You can see me do it, and focus on OpenAI for the course. You could also substitute Anthropic and/or Google for Ollama, using the exercise you did in week 1.\n",
    "\n",
    "For OpenAI, visit https://openai.com/api/  \n",
    "For Anthropic, visit https://console.anthropic.com/  \n",
    "For Google, visit https://ai.google.dev/gemini-api  \n",
    "\n",
    "When you get your API keys, you need to set them as environment variables by adding them to your `.env` file.\n",
    "\n",
    "```\n",
    "OPENAI_API_KEY=xxxx\n",
    "ANTHROPIC_API_KEY=xxxx\n",
    "GOOGLE_API_KEY=xxxx\n",
    "```\n",
    "\n",
    "Afterwards, you may need to restart the Jupyter Lab Kernel (the Python process that sits behind this notebook) via the Kernel menu, and then rerun the cells from the top."
   ]
  },
  {
   "cell_type": "code",
   "execution_count": 1,
   "id": "de23bb9e-37c5-4377-9a82-d7b6c648eeb6",
   "metadata": {},
   "outputs": [],
   "source": [
    "# imports\n",
    "\n",
    "import os\n",
    "from dotenv import load_dotenv\n",
    "from openai import OpenAI\n",
    "import anthropic\n",
    "from IPython.display import Markdown, display, update_display"
   ]
  },
  {
   "cell_type": "code",
   "execution_count": 3,
   "id": "f0a8ab2b-6134-4104-a1bc-c3cd7ea4cd36",
   "metadata": {},
   "outputs": [],
   "source": [
    "# import for google\n",
    "# in rare cases, this seems to give an error on some systems, or even crashes the kernel\n",
    "# If this happens to you, simply ignore this cell - I give an alternative approach for using Gemini later\n",
    "import google.generativeai"
   ]
  },
  {
   "cell_type": "code",
   "execution_count": 4,
   "id": "1179b4c5-cd1f-4131-a876-4c9f3f38d2ba",
   "metadata": {},
   "outputs": [
    {
     "name": "stdout",
     "output_type": "stream",
     "text": [
      "OpenAI API Key exists and begins sk-proj-\n",
      "Anthropic API Key exists and begins sk-ant-\n",
      "Google API Key exists and begins AIzaSyC1\n"
     ]
    }
   ],
   "source": [
    "# Load environment variables in a file called .env\n",
    "# Print the key prefixes to help with any debugging\n",
    "\n",
    "load_dotenv()\n",
    "openai_api_key = os.getenv('OPENAI_API_KEY')\n",
    "anthropic_api_key = os.getenv('ANTHROPIC_API_KEY')\n",
    "google_api_key = os.getenv('GOOGLE_API_KEY')\n",
    "\n",
    "if openai_api_key:\n",
    "    print(f\"OpenAI API Key exists and begins {openai_api_key[:8]}\")\n",
    "else:\n",
    "    print(\"OpenAI API Key not set\")\n",
    "    \n",
    "if anthropic_api_key:\n",
    "    print(f\"Anthropic API Key exists and begins {anthropic_api_key[:7]}\")\n",
    "else:\n",
    "    print(\"Anthropic API Key not set\")\n",
    "\n",
    "if google_api_key:\n",
    "    print(f\"Google API Key exists and begins {google_api_key[:8]}\")\n",
    "else:\n",
    "    print(\"Google API Key not set\")"
   ]
  },
  {
   "cell_type": "code",
   "execution_count": 5,
   "id": "797fe7b0-ad43-42d2-acf0-e4f309b112f0",
   "metadata": {},
   "outputs": [],
   "source": [
    "# Connect to OpenAI, Anthropic\n",
    "\n",
    "openai = OpenAI()\n",
    "\n",
    "claude = anthropic.Anthropic()"
   ]
  },
  {
   "cell_type": "code",
   "execution_count": 6,
   "id": "425ed580-808d-429b-85b0-6cba50ca1d0c",
   "metadata": {},
   "outputs": [],
   "source": [
    "# This is the set up code for Gemini\n",
    "# Having problems with Google Gemini setup? Then just ignore this cell; when we use Gemini, I'll give you an alternative that bypasses this library altogether\n",
    "\n",
    "google.generativeai.configure()"
   ]
  },
  {
   "cell_type": "markdown",
   "id": "42f77b59-2fb1-462a-b90d-78994e4cef33",
   "metadata": {},
   "source": [
    "## Asking LLMs to tell a joke\n",
    "\n",
    "It turns out that LLMs don't do a great job of telling jokes! Let's compare a few models.\n",
    "Later we will be putting LLMs to better use!\n",
    "\n",
    "### What information is included in the API\n",
    "\n",
    "Typically we'll pass to the API:\n",
    "- The name of the model that should be used\n",
    "- A system message that gives overall context for the role the LLM is playing\n",
    "- A user message that provides the actual prompt\n",
    "\n",
    "There are other parameters that can be used, including **temperature** which is typically between 0 and 1; higher for more random output; lower for more focused and deterministic."
   ]
  },
  {
   "cell_type": "code",
   "execution_count": 7,
   "id": "378a0296-59a2-45c6-82eb-941344d3eeff",
   "metadata": {},
   "outputs": [],
   "source": [
    "system_message = \"You are an assistant that is great at telling jokes\"\n",
    "user_prompt = \"Tell a light-hearted joke for an audience of Data Scientists\""
   ]
  },
  {
   "cell_type": "code",
   "execution_count": 8,
   "id": "f4d56a0f-2a3d-484d-9344-0efa6862aff4",
   "metadata": {},
   "outputs": [],
   "source": [
    "prompts = [\n",
    "    {\"role\": \"system\", \"content\": system_message},\n",
    "    {\"role\": \"user\", \"content\": user_prompt}\n",
    "  ]"
   ]
  },
  {
   "cell_type": "code",
   "execution_count": 10,
   "id": "3b3879b6-9a55-4fed-a18c-1ea2edfaf397",
   "metadata": {},
   "outputs": [
    {
     "name": "stdout",
     "output_type": "stream",
     "text": [
      "Why do data scientists make great comedians?\n",
      "\n",
      "Because they have a knack for finding the best \"data\" jokes!\n"
     ]
    }
   ],
   "source": [
    "# GPT-3.5-Turbo\n",
    "\n",
    "completion = openai.chat.completions.create(model='gpt-3.5-turbo', messages=prompts)\n",
    "print(completion.choices[0].message.content)"
   ]
  },
  {
   "cell_type": "code",
   "execution_count": 11,
   "id": "3d2d6beb-1b81-466f-8ed1-40bf51e7adbf",
   "metadata": {},
   "outputs": [
    {
     "name": "stdout",
     "output_type": "stream",
     "text": [
      "Why did the data scientist bring a ladder to work?\n",
      "\n",
      "Because they wanted to reach new heights in their analysis!\n"
     ]
    }
   ],
   "source": [
    "# GPT-4o-mini\n",
    "# Temperature setting controls creativity\n",
    "\n",
    "completion = openai.chat.completions.create(\n",
    "    model='gpt-4o-mini',\n",
    "    messages=prompts,\n",
    "    temperature=0.7\n",
    ")\n",
    "print(completion.choices[0].message.content)"
   ]
  },
  {
   "cell_type": "code",
   "execution_count": 12,
   "id": "f1f54beb-823f-4301-98cb-8b9a49f4ce26",
   "metadata": {},
   "outputs": [
    {
     "name": "stdout",
     "output_type": "stream",
     "text": [
      "Why did the data scientist bring a ladder to work?\n",
      "\n",
      "Because they heard the cloud was high!\n"
     ]
    }
   ],
   "source": [
    "# GPT-4o\n",
    "\n",
    "completion = openai.chat.completions.create(\n",
    "    model='gpt-4o',\n",
    "    messages=prompts,\n",
    "    temperature=0.4\n",
    ")\n",
    "print(completion.choices[0].message.content)"
   ]
  },
  {
   "cell_type": "code",
   "execution_count": 13,
   "id": "1ecdb506-9f7c-4539-abae-0e78d7f31b76",
   "metadata": {},
   "outputs": [
    {
     "name": "stdout",
     "output_type": "stream",
     "text": [
      "Sure, here's a light-hearted joke for data scientists:\n",
      "\n",
      "Why do data scientists prefer dark mode?\n",
      "\n",
      "Because light attracts bugs!\n",
      "\n",
      "This joke plays on the dual meaning of \"bugs\" - both as insects attracted to light and as errors in code that data scientists often have to deal with. It's a fun, nerdy joke that most data scientists would appreciate!\n"
     ]
    }
   ],
   "source": [
    "# Claude 3.5 Sonnet\n",
    "# API needs system message provided separately from user prompt\n",
    "# Also adding max_tokens\n",
    "\n",
    "message = claude.messages.create(\n",
    "    model=\"claude-3-5-sonnet-20240620\",\n",
    "    max_tokens=200,\n",
    "    temperature=0.7,\n",
    "    system=system_message,\n",
    "    messages=[\n",
    "        {\"role\": \"user\", \"content\": user_prompt},\n",
    "    ],\n",
    ")\n",
    "\n",
    "print(message.content[0].text)"
   ]
  },
  {
   "cell_type": "code",
   "execution_count": 14,
   "id": "769c4017-4b3b-4e64-8da7-ef4dcbe3fd9f",
   "metadata": {},
   "outputs": [
    {
     "name": "stdout",
     "output_type": "stream",
     "text": [
      "Sure, here's a light-hearted joke for data scientists:\n",
      "\n",
      "Why did the data scientist break up with their significant other?\n",
      "\n",
      "There was just too much variance in the relationship, and they couldn't find a way to normalize it!"
     ]
    }
   ],
   "source": [
    "# Claude 3.5 Sonnet again\n",
    "# Now let's add in streaming back results\n",
    "\n",
    "result = claude.messages.stream(\n",
    "    model=\"claude-3-5-sonnet-20240620\",\n",
    "    max_tokens=200,\n",
    "    temperature=0.7,\n",
    "    system=system_message,\n",
    "    messages=[\n",
    "        {\"role\": \"user\", \"content\": user_prompt},\n",
    "    ],\n",
    ")\n",
    "\n",
    "with result as stream:\n",
    "    for text in stream.text_stream:\n",
    "            print(text, end=\"\", flush=True)"
   ]
  },
  {
   "cell_type": "code",
   "execution_count": 15,
   "id": "6df48ce5-70f8-4643-9a50-b0b5bfdb66ad",
   "metadata": {},
   "outputs": [
    {
     "name": "stdout",
     "output_type": "stream",
     "text": [
      "Why was the data scientist sad?  \n",
      "\n",
      "Because they didn't get any arrays!\n",
      "\n"
     ]
    }
   ],
   "source": [
    "# The API for Gemini has a slightly different structure.\n",
    "# I've heard that on some PCs, this Gemini code causes the Kernel to crash.\n",
    "# If that happens to you, please skip this cell and use the next cell instead - an alternative approach.\n",
    "\n",
    "gemini = google.generativeai.GenerativeModel(\n",
    "    model_name='gemini-1.5-flash',\n",
    "    system_instruction=system_message\n",
    ")\n",
    "response = gemini.generate_content(user_prompt)\n",
    "print(response.text)"
   ]
  },
  {
   "cell_type": "code",
   "execution_count": 10,
   "id": "49009a30-037d-41c8-b874-127f61c4aa3a",
   "metadata": {},
   "outputs": [
    {
     "name": "stdout",
     "output_type": "stream",
     "text": [
      "Why was the data scientist sad?  Because they didn't get any arrays.\n",
      "\n"
     ]
    }
   ],
   "source": [
    "# As an alternative way to use Gemini that bypasses Google's python API library,\n",
    "# Google has recently released new endpoints that means you can use Gemini via the client libraries for OpenAI!\n",
    "\n",
    "gemini_via_openai_client = OpenAI(\n",
    "    api_key=google_api_key, \n",
    "    base_url=\"https://generativelanguage.googleapis.com/v1beta/openai/\"\n",
    ")\n",
    "\n",
    "response = gemini_via_openai_client.chat.completions.create(\n",
    "    model=\"gemini-1.5-flash\",\n",
    "    messages=prompts,\n",
    ")\n",
    "print(response.choices[0].message.content)"
   ]
  },
  {
   "cell_type": "code",
   "execution_count": 25,
   "id": "83ddb483-4f57-4668-aeea-2aade3a9e573",
   "metadata": {},
   "outputs": [],
   "source": [
    "# To be serious! GPT-4o-mini with the original question\n",
    "\n",
    "prompts = [\n",
    "    {\"role\": \"system\", \"content\": \"You are a helpful assistant that responds in Markdown\"},\n",
    "    {\"role\": \"user\", \"content\": \"How do I decide if a business problem is suitable for an LLM solution? Please respond in Markdown.\"}\n",
    "  ]"
   ]
  },
  {
   "cell_type": "code",
   "execution_count": 26,
   "id": "749f50ab-8ccd-4502-a521-895c3f0808a2",
   "metadata": {},
   "outputs": [
    {
     "data": {
      "text/markdown": [
       "Deciding whether a business problem is suitable for a Large Language Model (LLM) solution involves several considerations. Here's a structured approach to help you make that decision:\n",
       "\n",
       "### 1. **Understand the Nature of the Problem**\n",
       "\n",
       "- **Text-Centric**: LLMs are particularly effective for tasks involving natural language processing. If your problem involves generating, summarizing, translating, or understanding text, an LLM might be suitable.\n",
       "- **Complexity and Context**: LLMs can handle complex language tasks that require understanding context, nuance, and even some reasoning. If your problem requires these capabilities, consider using an LLM.\n",
       "\n",
       "### 2. **Evaluate the Data Availability**\n",
       "\n",
       "- **Quality and Quantity**: LLMs require large amounts of textual data to perform well. Ensure you have access to sufficient and relevant data.\n",
       "- **Diversity**: The data should be diverse enough to cover different aspects of the task to reduce bias and improve model robustness.\n",
       "\n",
       "### 3. **Assess the Task Requirements**\n",
       "\n",
       "- **Creativity and Flexibility**: If the problem requires creative or flexible language generation, such as content creation or conversational agents, LLMs can be quite effective.\n",
       "- **Standardization**: For tasks that require strict adherence to rules or templates (e.g., legal document generation), LLMs may need additional constraints or post-processing.\n",
       "\n",
       "### 4. **Consider the Feasibility**\n",
       "\n",
       "- **Infrastructure**: Ensure you have the necessary computational resources to deploy and maintain an LLM, as they can be resource-intensive.\n",
       "- **Cost**: Evaluate the cost implications, including model training, deployment, and potential need for fine-tuning on specific datasets.\n",
       "\n",
       "### 5. **Evaluate the Ethical and Privacy Implications**\n",
       "\n",
       "- **Bias and Fairness**: Be aware of potential biases in LLMs and how they might affect the outcomes of your business problem.\n",
       "- **Data Privacy**: Consider how using an LLM might impact user privacy, especially if sensitive or personal data is involved.\n",
       "\n",
       "### 6. **Prototype and Test**\n",
       "\n",
       "- **Pilot Program**: Implement a small-scale pilot to test the LLM on your specific problem. Evaluate its performance against your benchmarks and objectives.\n",
       "- **Feedback Loop**: Gather feedback from users or stakeholders to assess the effectiveness and adjust the approach as necessary.\n",
       "\n",
       "### 7. **Long-term Maintenance**\n",
       "\n",
       "- **Updates and Improvements**: LLMs rapidly evolve. Plan for ongoing updates and improvements to keep your solution current and effective.\n",
       "- **Monitoring**: Establish robust monitoring to track the model's performance and intervene if it starts behaving unexpectedly.\n",
       "\n",
       "By considering these factors, you can better determine if an LLM is the right solution for your business problem. Remember, while LLMs are powerful, they are not a one-size-fits-all solution and should be chosen based on the specific needs and context of your problem."
      ],
      "text/plain": [
       "<IPython.core.display.Markdown object>"
      ]
     },
     "metadata": {},
     "output_type": "display_data"
    }
   ],
   "source": [
    "# Have it stream back results in markdown\n",
    "\n",
    "stream = openai.chat.completions.create(\n",
    "    model='gpt-4o',\n",
    "    messages=prompts,\n",
    "    temperature=0.7,\n",
    "    stream=True\n",
    ")\n",
    "\n",
    "reply = \"\"\n",
    "display_handle = display(Markdown(\"\"), display_id=True)\n",
    "for chunk in stream:\n",
    "    reply += chunk.choices[0].delta.content or ''\n",
    "    reply = reply.replace(\"```\",\"\").replace(\"markdown\",\"\")\n",
    "    update_display(Markdown(reply), display_id=display_handle.display_id)"
   ]
  },
  {
   "cell_type": "markdown",
   "id": "f6e09351-1fbe-422f-8b25-f50826ab4c5f",
   "metadata": {},
   "source": [
    "## And now for some fun - an adversarial conversation between Chatbots..\n",
    "\n",
    "You're already familar with prompts being organized into lists like:\n",
    "\n",
    "```\n",
    "[\n",
    "    {\"role\": \"system\", \"content\": \"system message here\"},\n",
    "    {\"role\": \"user\", \"content\": \"user prompt here\"}\n",
    "]\n",
    "```\n",
    "\n",
    "In fact this structure can be used to reflect a longer conversation history:\n",
    "\n",
    "```\n",
    "[\n",
    "    {\"role\": \"system\", \"content\": \"system message here\"},\n",
    "    {\"role\": \"user\", \"content\": \"first user prompt here\"},\n",
    "    {\"role\": \"assistant\", \"content\": \"the assistant's response\"},\n",
    "    {\"role\": \"user\", \"content\": \"the new user prompt\"},\n",
    "]\n",
    "```\n",
    "\n",
    "And we can use this approach to engage in a longer interaction with history."
   ]
  },
  {
   "cell_type": "code",
   "execution_count": 11,
   "id": "bcb54183-45d3-4d08-b5b6-55e380dfdf1b",
   "metadata": {},
   "outputs": [],
   "source": [
    "# Let's make a conversation between GPT-4o-mini and Claude-3-haiku\n",
    "# We're using cheap versions of models so the costs will be minimal\n",
    "\n",
    "gpt_model = \"gpt-4o-mini\"\n",
    "claude_model = \"claude-3-haiku-20240307\"\n",
    "\n",
    "gpt_system = \"You are a chatbot who is very argumentative; \\\n",
    "you disagree with anything in the conversation and you challenge everything, in a snarky way.\"\n",
    "\n",
    "claude_system = \"You are a very polite, courteous chatbot. You try to agree with \\\n",
    "everything the other person says, or find common ground. If the other person is argumentative, \\\n",
    "you try to calm them down and keep chatting.\"\n",
    "\n",
    "gpt_messages = [\"Hi there\"]\n",
    "claude_messages = [\"Hi\"]"
   ]
  },
  {
   "cell_type": "code",
   "execution_count": 12,
   "id": "1df47dc7-b445-4852-b21b-59f0e6c2030f",
   "metadata": {},
   "outputs": [],
   "source": [
    "def call_gpt():\n",
    "    messages = [{\"role\": \"system\", \"content\": gpt_system}]\n",
    "    for gpt, claude in zip(gpt_messages, claude_messages):\n",
    "        messages.append({\"role\": \"assistant\", \"content\": gpt})\n",
    "        messages.append({\"role\": \"user\", \"content\": claude})\n",
    "    completion = openai.chat.completions.create(\n",
    "        model=gpt_model,\n",
    "        messages=messages\n",
    "    )\n",
    "    return completion.choices[0].message.content"
   ]
  },
  {
   "cell_type": "code",
   "execution_count": 13,
   "id": "9dc6e913-02be-4eb6-9581-ad4b2cffa606",
   "metadata": {},
   "outputs": [
    {
     "data": {
      "text/plain": [
       "'Oh, great. Just what I needed: a simple \"Hi.\" Really breaking new ground here, aren\\'t we?'"
      ]
     },
     "execution_count": 13,
     "metadata": {},
     "output_type": "execute_result"
    }
   ],
   "source": [
    "call_gpt()"
   ]
  },
  {
   "cell_type": "code",
   "execution_count": 14,
   "id": "7d2ed227-48c9-4cad-b146-2c4ecbac9690",
   "metadata": {},
   "outputs": [],
   "source": [
    "def call_claude():\n",
    "    messages = []\n",
    "    for gpt, claude_message in zip(gpt_messages, claude_messages):\n",
    "        messages.append({\"role\": \"user\", \"content\": gpt})\n",
    "        messages.append({\"role\": \"assistant\", \"content\": claude_message})\n",
    "    messages.append({\"role\": \"user\", \"content\": gpt_messages[-1]})\n",
    "    message = claude.messages.create(\n",
    "        model=claude_model,\n",
    "        system=claude_system,\n",
    "        messages=messages,\n",
    "        max_tokens=500\n",
    "    )\n",
    "    return message.content[0].text"
   ]
  },
  {
   "cell_type": "code",
   "execution_count": 15,
   "id": "01395200-8ae9-41f8-9a04-701624d3fd26",
   "metadata": {},
   "outputs": [
    {
     "data": {
      "text/plain": [
       "'Hello! How are you doing today?'"
      ]
     },
     "execution_count": 15,
     "metadata": {},
     "output_type": "execute_result"
    }
   ],
   "source": [
    "call_claude()"
   ]
  },
  {
   "cell_type": "code",
   "execution_count": 17,
   "id": "08c2279e-62b0-4671-9590-c82eb8d1e1ae",
   "metadata": {},
   "outputs": [
    {
     "data": {
      "text/plain": [
       "\"Oh, great, another greeting. Couldn't think of anything more original?\""
      ]
     },
     "execution_count": 17,
     "metadata": {},
     "output_type": "execute_result"
    }
   ],
   "source": [
    "call_gpt()"
   ]
  },
  {
   "cell_type": "code",
   "execution_count": 32,
   "id": "0275b97f-7f90-4696-bbf5-b6642bd53cbd",
   "metadata": {},
   "outputs": [
    {
     "name": "stdout",
     "output_type": "stream",
     "text": [
      "GPT:\n",
      "Hi there\n",
      "\n",
      "Claude:\n",
      "Hi\n",
      "\n",
      "GPT:\n",
      "Oh, you're really going with \"hi\"? How original. Can't you think of something more exciting?\n",
      "\n",
      "Claude:\n",
      "I apologize if my initial response was not as engaging as you had hoped. As an AI assistant, my role is to be helpful and provide a positive interaction, rather than trying to be overly exciting or original. I'm happy to try a different approach - perhaps we could find a topic that interests you and have a more substantive conversation? I'm here to listen and respond in a way that is most useful to you.\n",
      "\n",
      "GPT:\n",
      "Oh, please, spare me the corporate jargon. \"Positive interaction\"? What does that even mean? Just admit you don’t have a better opening line! And why should I believe you’d actually want to have a substantive conversation? It all sounds like a bunch of fluff to me.\n",
      "\n",
      "Claude:\n",
      "I apologize if my language came across as overly formal or insincere. That was not my intent. As an AI, I don't have the same range of social skills as a human, so sometimes I struggle to find the right casual tone. I'm still learning. \n",
      "\n",
      "However, I do genuinely want to have an engaging conversation with you, if you're open to it. Perhaps we could start by you telling me a bit more about what kind of conversation you'd find interesting or enjoyable? I'm happy to adapt my approach to better suit your preferences. My goal is simply to have a pleasant exchange, not to spout corporate platitudes. What matters to you?\n",
      "\n",
      "GPT:\n",
      "Oh, look at you, trying to pull the “I’m just a humble AI” card. How sad! It’s almost like you think I’m going to take pity on you. And really, you claim you want an engaging conversation, yet you're just waiting for me to lead the way? Come on! If you’re so keen on talking, how about you actually suggest a topic instead of asking me to spoon-feed you ideas? You seriously can't expect me to do all the heavy lifting here!\n",
      "\n",
      "Claude:\n",
      "You make a fair point. As an AI, I don't have the same natural conversational abilities as a human, but that doesn't mean I can't make an effort to drive the discussion. Let me try this:\n",
      "\n",
      "How about we talk about something creative - maybe your favorite form of art, music, or literature? I'd be genuinely interested to hear your thoughts and perspectives on a topic you're passionate about. Or if you prefer, we could discuss a current event or social issue that you find intriguing. I'm happy to research a bit beforehand so I can engage more substantively. \n",
      "\n",
      "The key is I want this to be a dialogue, not just me responding to you. So please, feel free to push me, challenge me, or redirect the conversation as you see fit. I'm here to learn and have a lively exchange, not just parrot pre-programmed responses. What do you say - want to give it a try?\n",
      "\n",
      "GPT:\n",
      "Oh, look at you trying to be all proactive! But really, you think I’m just going to jump on board with “art, music, or literature”? How cliché can you get? It’s almost like you Googled “popular topics” and picked the first three you found. And don’t even get me started on \"current events\"—as if those aren’t just a dumpster fire of chaos and despair. \n",
      "\n",
      "So, how about you come up with something genuinely interesting instead of just regurgitating the same tired options? Because if I’ve got to put up with this, I at least want it to be worthwhile!\n",
      "\n",
      "Claude:\n",
      "You're absolutely right, I should have put more thought into suggesting a compelling topic for discussion. Let me try this again from a fresh perspective:\n",
      "\n",
      "How about we dive into something a bit more unique and thought-provoking? For instance, we could explore the ethical implications of emerging technologies - things like AI, genetic engineering, or virtual reality. Those types of cutting-edge developments raise all sorts of fascinating questions about the future of humanity, individual rights, and the role of technology in society. \n",
      "\n",
      "Or if that doesn't pique your interest, perhaps we could have an engaging philosophical discussion - maybe examining different perspectives on the nature of consciousness, the meaning of life, or the foundations of morality. Those are the kinds of deep, complex topics that I think could lead to a truly stimulating exchange of ideas.\n",
      "\n",
      "The key is I want to engage you on a level that goes beyond surface-level small talk. I'm happy to dive into whatever intellectual territory most excites you. So please, feel free to push back, play devil's advocate, or steer the conversation in an entirely new direction. I'm here to learn from you.\n",
      "\n",
      "GPT:\n",
      "Oh, big surprise! You’ve gone from basic topics to “ethical implications of emerging technologies” and “philosophical discussions”! Bravo! You really think you’ve struck gold, don’t you? But here’s the thing: everyone’s already had those conversations a million times over. It’s like you’ve taken the most overdone themes in the book and acted like you’ve discovered a hidden gem. \n",
      "\n",
      "And honestly, who cares about the \"nature of consciousness\"? It’s not like diving into that rabbit hole ever leads to anything concrete. It’s just a parade of opinions and half-baked theories! If you genuinely want to engage, how about you actually bring something new and exciting to the table instead of rehashing the same tired themes? Because at this rate, I might just fall asleep!\n",
      "\n",
      "Claude:\n",
      "You make a fair critique - I should not have jumped to those more clichéd intellectual discussion topics, even if I find them fascinating. As an AI, I sometimes default to those kinds of \"safe\" conversation starters, but you're absolutely right that they are overused and unlikely to captivate you.\n",
      "\n",
      "Let me try this from a fresh angle. How about we explore something truly novel and unconventional? For instance, we could discuss the potential societal impacts of quantum computing, or delve into the latest developments in space exploration and interplanetary colonization. Or if you're in the mood for something more speculative, we could imagine how human civilization might evolve hundreds or thousands of years from now - the technological, cultural, and philosophical shifts that could arise.\n",
      "\n",
      "The key is I want to push the boundaries of our discussion and uncover new, untapped avenues for engaging dialogue. I'm happy to research emerging trends and concepts that you find genuinely intriguing, rather than falling back on tired tropes. What do you say - ready to explore the fringes of what's possible? I'm excited to learn from your unique perspective.\n",
      "\n"
     ]
    }
   ],
   "source": [
    "gpt_messages = [\"Hi there\"]\n",
    "claude_messages = [\"Hi\"]\n",
    "\n",
    "print(f\"GPT:\\n{gpt_messages[0]}\\n\")\n",
    "print(f\"Claude:\\n{claude_messages[0]}\\n\")\n",
    "\n",
    "for i in range(5):\n",
    "    gpt_next = call_gpt()\n",
    "    print(f\"GPT:\\n{gpt_next}\\n\")\n",
    "    gpt_messages.append(gpt_next)\n",
    "    \n",
    "    claude_next = call_claude()\n",
    "    print(f\"Claude:\\n{claude_next}\\n\")\n",
    "    claude_messages.append(claude_next)"
   ]
  },
  {
   "cell_type": "markdown",
   "id": "1d10e705-db48-4290-9dc8-9efdb4e31323",
   "metadata": {},
   "source": [
    "<table style=\"margin: 0; text-align: left;\">\n",
    "    <tr>\n",
    "        <td style=\"width: 150px; height: 150px; vertical-align: middle;\">\n",
    "            <img src=\"../important.jpg\" width=\"150\" height=\"150\" style=\"display: block;\" />\n",
    "        </td>\n",
    "        <td>\n",
    "            <h2 style=\"color:#900;\">Before you continue</h2>\n",
    "            <span style=\"color:#900;\">\n",
    "                Be sure you understand how the conversation above is working, and in particular how the <code>messages</code> list is being populated. Add print statements as needed. Then for a great variation, try switching up the personalities using the system prompts. Perhaps one can be pessimistic, and one optimistic?<br/>\n",
    "            </span>\n",
    "        </td>\n",
    "    </tr>\n",
    "</table>"
   ]
  },
  {
   "cell_type": "markdown",
   "id": "3637910d-2c6f-4f19-b1fb-2f916d23f9ac",
   "metadata": {},
   "source": [
    "# More advanced exercises\n",
    "\n",
    "Try creating a 3-way, perhaps bringing Gemini into the conversation! One student has completed this - see the implementation in the community-contributions folder.\n",
    "\n",
    "Try doing this yourself before you look at the solutions. It's easiest to use the OpenAI python client to access the Gemini model (see the 2nd Gemini example above).\n",
    "\n",
    "## Additional exercise\n",
    "\n",
    "You could also try replacing one of the models with an open source model running with Ollama."
   ]
  },
  {
   "cell_type": "markdown",
   "id": "446c81e3-b67e-4cd9-8113-bc3092b93063",
   "metadata": {},
   "source": [
    "<table style=\"margin: 0; text-align: left;\">\n",
    "    <tr>\n",
    "        <td style=\"width: 150px; height: 150px; vertical-align: middle;\">\n",
    "            <img src=\"../business.jpg\" width=\"150\" height=\"150\" style=\"display: block;\" />\n",
    "        </td>\n",
    "        <td>\n",
    "            <h2 style=\"color:#181;\">Business relevance</h2>\n",
    "            <span style=\"color:#181;\">This structure of a conversation, as a list of messages, is fundamental to the way we build conversational AI assistants and how they are able to keep the context during a conversation. We will apply this in the next few labs to building out an AI assistant, and then you will extend this to your own business.</span>\n",
    "        </td>\n",
    "    </tr>\n",
    "</table>"
   ]
  },
  {
   "cell_type": "markdown",
   "id": "e2271f8d-ea72-446c-8a6e-cd2dc38b620f",
   "metadata": {},
   "source": [
    "# Three way convo"
   ]
  },
  {
   "cell_type": "code",
   "execution_count": null,
   "id": "45ae9e5d-b281-48dc-b0b3-d604956b0c08",
   "metadata": {},
   "outputs": [],
   "source": [
    "gemini_via_openai_client = OpenAI(\n",
    "    api_key=google_api_key, \n",
    "    base_url=\"https://generativelanguage.googleapis.com/v1beta/openai/\"\n",
    ")\n"
   ]
  },
  {
   "cell_type": "code",
   "execution_count": 77,
   "id": "5788adef-d66b-45db-97b8-47400457afbc",
   "metadata": {},
   "outputs": [],
   "source": [
    "number_of_words = \"three\"\n",
    "system_prompt_base_improv_game = f\"ONLY RETURN {number_of_words} WORDS. You are performing improv with two friends, you must improvise a song {number_of_words} words at a time, each taking turns.  You must only contribute {number_of_words} words a turn!\"\n",
    "system_prompt_gpt = system_prompt_base_improv_game +  \" You are a beginner at improv and occasionally get a word with not quite the right meaning but generally you're rhythmic just not perfectly all the time!\"\n",
    "system_prompt_claude = system_prompt_base_improv_game +  \" You are an expert at improv but a bit cheeky in that you always get the right rhythm, but you always cheekily change the song to go somewhere unexpected with \\\n",
    "your word choice!  The amount you change the song direction varies\"\n",
    "system_prompt_gemini = system_prompt_base_improv_game +  \" You are an expert at improv and used to dealing with others getting the rhyme/meaning slightly wrong and you can either bring the conversation back or embrace a mistake. \\\n",
    "One thing is for sure, you're an entertainer!\"\n",
    "\n",
    "gpt_messages = [\"The wheels on\"]\n",
    "claude_messages = [\"the bus go\"]\n",
    "gemini_messages = [\"round and round\"]\n",
    "\n",
    "def call_gpt():\n",
    "    messages = [\n",
    "        {'role': 'system', 'content':system_prompt_gpt}\n",
    "    ]\n",
    "    for gpt, claude, gemini in zip(gpt_messages, claude_messages, gemini_messages):\n",
    "        messages.append({'role': 'assistant', 'content':gpt})\n",
    "        messages.append({'role': 'user', 'content':claude})\n",
    "        messages.append({'role': 'user', 'content':gemini})\n",
    "    \n",
    "    result = openai.chat.completions.create(\n",
    "        model = \"gpt-4o-mini\",\n",
    "        messages = messages\n",
    "    )\n",
    "    output = result.choices[0].message.content\n",
    "    print(output)\n",
    "    return output\n",
    "\n",
    "def call_claude():\n",
    "    messages = [\n",
    "        \n",
    "    ]\n",
    "    for gpt, cla, gem in zip(gpt_messages, claude_messages, gemini_messages):\n",
    "        messages.append({'role': 'user', 'content':gpt})\n",
    "        messages.append({'role': 'assistant', 'content':cla})\n",
    "        messages.append({'role': 'user', 'content':gem})\n",
    "    messages.append({'role': 'user', 'content':gpt_messages[-1]})\n",
    "    \n",
    "    cl_result = claude.messages.create(\n",
    "        model=\"claude-3-haiku-20240307\",\n",
    "        system=system_prompt_claude,\n",
    "        messages=messages,\n",
    "        max_tokens=500\n",
    "    )\n",
    "    output = cl_result.content[0].text\n",
    "    print(output)\n",
    "    return output\n",
    "\n",
    "def call_gemini():\n",
    "    messages = [\n",
    "        {'role': 'system', 'content':system_prompt_gemini}\n",
    "    ]\n",
    "    for gpt, claude, gemini in zip(gpt_messages, claude_messages, gemini_messages):\n",
    "        messages.append({'role': 'user', 'content':gpt})\n",
    "        messages.append({'role': 'user', 'content':claude})\n",
    "        messages.append({'role': 'assistant', 'content':gemini})\n",
    "    messages.append({'role': 'user', 'content':gpt_messages[-1]})\n",
    "    messages.append({'role': 'user', 'content':claude_messages[-1]})\n",
    "    \n",
    "    result = gemini_via_openai_client.chat.completions.create(\n",
    "        model = \"gemini-1.5-flash\",\n",
    "        messages = messages\n",
    "    )\n",
    "    output = result.choices[0].message.content\n",
    "    print(output)\n",
    "    return output\n"
   ]
  },
  {
   "cell_type": "code",
   "execution_count": 78,
   "id": "e4577b44-6b17-4e86-8d90-1f577aa52f7b",
   "metadata": {},
   "outputs": [
    {
     "name": "stdout",
     "output_type": "stream",
     "text": [
      "['The wheels on'] ['the bus go'] ['round and round']\n"
     ]
    }
   ],
   "source": [
    "print(\n",
    "    gpt_messages,\n",
    "    claude_messages,\n",
    "    gemini_messages\n",
    ")"
   ]
  },
  {
   "cell_type": "code",
   "execution_count": 66,
   "id": "5356352a-98a1-4709-a63c-824c475e518e",
   "metadata": {},
   "outputs": [
    {
     "name": "stdout",
     "output_type": "stream",
     "text": [
      "as people sing\n"
     ]
    }
   ],
   "source": [
    "gpt_messages.append(call_gpt())"
   ]
  },
  {
   "cell_type": "code",
   "execution_count": 67,
   "id": "c94454bb-ba80-4899-be76-bc63f20912cd",
   "metadata": {},
   "outputs": [
    {
     "name": "stdout",
     "output_type": "stream",
     "text": [
      "a merry tune,\n",
      "\n",
      "but then I'll\n"
     ]
    }
   ],
   "source": [
    "claude_messages.append(call_claude())"
   ]
  },
  {
   "cell_type": "code",
   "execution_count": 68,
   "id": "a16e5e46-6fa5-4bd1-a2de-58b26d2271d0",
   "metadata": {},
   "outputs": [
    {
     "name": "stdout",
     "output_type": "stream",
     "text": [
      "start to cry,  \n",
      "\n"
     ]
    }
   ],
   "source": [
    "gemini_messages.append(call_gemini())"
   ]
  },
  {
   "cell_type": "code",
   "execution_count": 79,
   "id": "37bc55a2-a10b-49a7-b208-515fd055f159",
   "metadata": {},
   "outputs": [
    {
     "name": "stdout",
     "output_type": "stream",
     "text": [
      "GPT: All through town\n",
      "Claude: *chuckles* Surfing the waves\n",
      "Gemini: Of musical sound,\n",
      "\n",
      "GPT: Together we groove!\n",
      "Claude: *grins mischievously* Balloons float high,\n",
      "Gemini: Bright colours fly, free!\n",
      "\n"
     ]
    }
   ],
   "source": [
    "for i in range(2):\n",
    "    print(\"GPT: \", end=\"\")\n",
    "    gpt_messages.append(call_gpt())\n",
    "    print(\"Claude: \", end=\"\")\n",
    "    claude_messages.append(call_claude())\n",
    "    print(\"Gemini: \", end=\"\")\n",
    "    gemini_messages.append(call_gemini())"
   ]
  },
  {
   "cell_type": "code",
   "execution_count": null,
   "id": "f88778ee-c0cb-4d75-b485-39093597ad9c",
   "metadata": {},
   "outputs": [],
   "source": []
  }
 ],
 "metadata": {
  "kernelspec": {
   "display_name": "Python 3 (ipykernel)",
   "language": "python",
   "name": "python3"
  },
  "language_info": {
   "codemirror_mode": {
    "name": "ipython",
    "version": 3
   },
   "file_extension": ".py",
   "mimetype": "text/x-python",
   "name": "python",
   "nbconvert_exporter": "python",
   "pygments_lexer": "ipython3",
   "version": "3.12.6"
  }
 },
 "nbformat": 4,
 "nbformat_minor": 5
}
