{
 "cells": [
  {
   "cell_type": "markdown",
   "id": "fe12c203-e6a6-452c-a655-afb8a03a4ff5",
   "metadata": {},
   "source": [
    "# End of week 1 exercise\n",
    "\n",
    "To demonstrate your familiarity with OpenAI API, and also Ollama, build a tool that takes a technical question,  \n",
    "and responds with an explanation. This is a tool that you will be able to use yourself during the course!"
   ]
  },
  {
   "cell_type": "code",
   "execution_count": 1,
   "id": "c1070317-3ed9-4659-abe3-828943230e03",
   "metadata": {},
   "outputs": [],
   "source": [
    "# imports\n",
    "import os\n",
    "from openai import OpenAI\n",
    "from IPython.display import Markdown, display, update_display\n",
    "from dotenv import load_dotenv"
   ]
  },
  {
   "cell_type": "code",
   "execution_count": 2,
   "id": "4a456906-915a-4bfd-bb9d-57e505c5093f",
   "metadata": {},
   "outputs": [],
   "source": [
    "# constants\n",
    "\n",
    "MODEL_GPT = 'gpt-4o-mini'\n",
    "MODEL_LLAMA = 'llama3.2'"
   ]
  },
  {
   "cell_type": "code",
   "execution_count": 3,
   "id": "a8d7923c-5f28-4c30-8556-342d7c8497c1",
   "metadata": {},
   "outputs": [
    {
     "name": "stdout",
     "output_type": "stream",
     "text": [
      "loaded key successfully\n"
     ]
    }
   ],
   "source": [
    "# set up environment\n",
    "load_dotenv(override=True)\n",
    "api_key = os.getenv('OPENAI_API_KEY')\n",
    "\n",
    "if not api_key:\n",
    "    print('failed to load api_key')\n",
    "elif not api_key.startswith('sk-proj-'):\n",
    "    print('incorrect key')\n",
    "elif api_key.strip() != api_key:\n",
    "    print('leading or training whitespace on api_key')\n",
    "else:\n",
    "    print('loaded key successfully')"
   ]
  },
  {
   "cell_type": "code",
   "execution_count": 3,
   "id": "3f0d0137-52b0-47a8-81a8-11a90a010798",
   "metadata": {},
   "outputs": [],
   "source": [
    "# here is the question; type over this to ask something new\n",
    "\n",
    "question = \"\"\"\n",
    "Please explain what this code does and why:\n",
    "yield from {book.get(\"author\") for book in books if book.get(\"author\")}\n",
    "\"\"\""
   ]
  },
  {
   "cell_type": "code",
   "execution_count": 7,
   "id": "60ce7000-a4a5-4cce-a261-e75ef45063b4",
   "metadata": {},
   "outputs": [
    {
     "data": {
      "text/markdown": [
       "The code you've provided is a line of Python code that uses a generator with a `yield from` statement alongside a set comprehension. Let's break it down step by step.\n",
       "\n",
       "### Components Breakdown:\n",
       "\n",
       "1. **Set Comprehension:**\n",
       "   python\n",
       "   {book.get(\"author\") for book in books if book.get(\"author\")}\n",
       "   \n",
       "   - **`for book in books`**: This part iterates over a collection called `books`, where each `book` is presumably a dictionary or an object from which we can extract an \"author\".\n",
       "   - **`book.get(\"author\")`**: This method attempts to retrieve the value associated with the key \"author\" from each `book`. If there is no such key, it returns `None` (if no default value is specified).\n",
       "   - **`if book.get(\"author\")`**: This condition checks if the `author` exists and is truthy (i.e., not `None`, `''`, `0`, etc.). Only books that have a valid author will be included in the next step.\n",
       "   - **Set Creation**: The result is a set of authors, ensuring that there will be no duplicates due to the nature of sets in Python.\n",
       "\n",
       "2. **`yield from`:**\n",
       "   python\n",
       "   yield from ...\n",
       "   \n",
       "   - The `yield from` statement is used within a generator function. It allows you to yield all values from an iterable (in this case, the set of authors created by the previous part) one at a time.\n",
       "   - This is particularly useful for delegating part of the generator's operations to another iterable.\n",
       "\n",
       "### Summary of What the Code Does:\n",
       "\n",
       "The provided code essentially creates a generator that yields all unique authors from a collection of books. It checks each book for an \"author\" field and includes it only if the field is present and has a truthy value. \n",
       "\n",
       "Moreover, because it uses a set comprehension, it ensures that each author is yielded only once (even if multiple books have the same author).\n",
       "\n",
       "### Use Case:\n",
       "\n",
       "You might use this code within a generator function to efficiently process and return a list of unique authors from a potentially large dataset of books without modifying the original data structure. Here’s a simple use-case example of a generator function:\n",
       "\n",
       "python\n",
       "def unique_authors(books):\n",
       "    yield from {book.get(\"author\") for book in books if book.get(\"author\")}\n",
       "\n",
       "\n",
       "This function could be called with a `books` list, and it would yield each unique author one at a time."
      ],
      "text/plain": [
       "<IPython.core.display.Markdown object>"
      ]
     },
     "metadata": {},
     "output_type": "display_data"
    }
   ],
   "source": [
    "# Get gpt-4o-mini to answer, with streaming\n",
    "openai = OpenAI()\n",
    "one_time_streamed_response = openai.chat.completions.create(\n",
    "    model=MODEL_GPT, \n",
    "    messages=[\n",
    "        {'role': 'user', 'content': question}\n",
    "    ],\n",
    "    stream=True\n",
    ")\n",
    "\n",
    "response = ''\n",
    "display_handle = display(Markdown(''), display_id=True)\n",
    "\n",
    "for chunk in one_time_streamed_response:\n",
    "    response += chunk.choices[0].delta.content or ''\n",
    "    response = response.replace(\"```\",\"\").replace(\"markdown\",\"\")\n",
    "    update_display(Markdown(response), display_id=display_handle.display_id)"
   ]
  },
  {
   "cell_type": "code",
   "execution_count": 5,
   "id": "8f7c8ea8-4082-4ad0-8751-3301adcf6538",
   "metadata": {},
   "outputs": [
    {
     "data": {
      "text/markdown": [
       "This line of code uses a combination of Python's iteration operators (`for` loop, `if`, and `get`) to yield the values of a specific key (\"author\") from each dictionary in a list of dictionaries named `books`.\n",
       "\n",
       "Here's a breakdown:\n",
       "\n",
       "- `{book.get(\"author\") for book in books if book.get(\"author\") }`: This is a generator expression that iterates over the list of dictionaries (`books`). \n",
       "\n",
       "  - It uses another generator expression `(book.get(\"author\"))` to extract the value of the key \"author\" from each dictionary, while iterating over it.\n",
       "  \n",
       "  - The `if book.get(\"author\")` condition ensures that only dictionaries (\"books\") with an existing author are considered for iteration. This prevents potential KeyError exceptions in the subsequent generation and yields.\n",
       "\n",
       "- `yield from ...`: This keyword is used to delegate a sub-object's iteration protocol to another iterable (in this case, another generator expression). \n",
       "\n",
       "  - When `yield from` appears outside of `function def`, it turns an existing iterative object into another. The `yield from` statement takes an iterator and creates new generators by iterating through the elements in this list.\n",
       "  \n",
       "  In summary, the line `yield from {book.get(\"author\") for book in books if book.get(\"author\")}` essentially iterates over all items (\"books\") that have a value associated with the key `\"author\"`, then returns each item's related value.\n",
       "\n",
       "Here is how one may represent it using code written inside an iterable:\n",
       "\n",
       "Python\n",
       "def author_generator(books):\n",
       "    for book in books:\n",
       "        if \"author\" in book:\n",
       "            yield book[\"author\"]\n",
       "\n",
       "book_list = [\n",
       "{'title': 'To Kill a Mockingbird', \n",
       "'author': 'Harper Lee'},\n",
       "{'id': 3, 'name': 'Bob Smith'}, # no author\n",
       "]\n",
       "for author in author_generator(book_list):\n",
       "    print(author) # prints Harper Lee's name\n"
      ],
      "text/plain": [
       "<IPython.core.display.Markdown object>"
      ]
     },
     "metadata": {},
     "output_type": "display_data"
    }
   ],
   "source": [
    "# Get Llama 3.2 to answer\n",
    "# !ollama serve\n",
    "openai = OpenAI(base_url='http://localhost:11434/v1', api_key='ollama')\n",
    "one_time_streamed_response = openai.chat.completions.create(\n",
    "    model=MODEL_LLAMA, \n",
    "    messages=[\n",
    "        {'role': 'user', 'content': question}\n",
    "    ],\n",
    "    stream=True\n",
    ")\n",
    "\n",
    "response = ''\n",
    "display_handle = display(Markdown(''), display_id=True)\n",
    "\n",
    "for chunk in one_time_streamed_response:\n",
    "    response += chunk.choices[0].delta.content or ''\n",
    "    response = response.replace(\"```\",\"\").replace(\"markdown\",\"\")\n",
    "    update_display(Markdown(response), display_id=display_handle.display_id)"
   ]
  },
  {
   "cell_type": "markdown",
   "id": "dbd7e2e5-f3c5-4224-b05b-9cbdf2451243",
   "metadata": {},
   "source": [
    "# making function to take an input"
   ]
  },
  {
   "cell_type": "code",
   "execution_count": null,
   "id": "63eb9002-0117-4f38-a6d5-e3a193c81fb8",
   "metadata": {},
   "outputs": [],
   "source": [
    "system_prompt = \" ... and reply in Markdown.\"\n",
    "user_prompt = \"\"\"\n",
    "\"\"\"\n",
    "\n",
    "def ask_chatgpt(user_prompt, system_prompt=None, enable_streaming=True):\n",
    "    if system_prompt:\n",
    "        messages_=[\n",
    "            {'role': 'system', 'content': system_prompt},\n",
    "            {'role': 'user', 'content': user_prompt}\n",
    "        ]\n",
    "    else:\n",
    "        messages_=[\n",
    "            {'role': 'user', 'content': user_prompt}\n",
    "        ]      \n",
    "        \n",
    "    \n",
    "    # Get gpt-4o-mini to answer, with streaming\n",
    "    openai = OpenAI()\n",
    "    response = openai.chat.completions.create(\n",
    "        model=MODEL_GPT, \n",
    "        messages=messages_,\n",
    "        stream=enable_streaming\n",
    "    )\n",
    "\n",
    "    if enable_streaming:\n",
    "        response = ''\n",
    "        display_handle = display(Markdown(''), display_id=True)\n",
    "        \n",
    "        for chunk in one_time_streamed_response:\n",
    "            response += chunk.choices[0].delta.content or ''\n",
    "            response = response.replace(\"```\",\"\").replace(\"markdown\",\"\")\n",
    "            update_display(Markdown(response), display_id=display_handle.display_id)\n",
    "    else:\n",
    "        display(Markdown(response.choices[0].message.content))\n",
    "\n",
    "ask_chatgpt(user_prompt, system_prompt=system_prompt, enable_streaming=False)\n",
    "        "
   ]
  },
  {
   "cell_type": "code",
   "execution_count": null,
   "id": "069a5e55-f143-4458-84a3-1a792e09c836",
   "metadata": {},
   "outputs": [],
   "source": []
  }
 ],
 "metadata": {
  "kernelspec": {
   "display_name": "Python 3 (ipykernel)",
   "language": "python",
   "name": "python3"
  },
  "language_info": {
   "codemirror_mode": {
    "name": "ipython",
    "version": 3
   },
   "file_extension": ".py",
   "mimetype": "text/x-python",
   "name": "python",
   "nbconvert_exporter": "python",
   "pygments_lexer": "ipython3",
   "version": "3.12.6"
  }
 },
 "nbformat": 4,
 "nbformat_minor": 5
}
