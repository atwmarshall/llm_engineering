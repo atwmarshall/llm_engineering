{
 "cells": [
  {
   "cell_type": "markdown",
   "id": "fe12c203-e6a6-452c-a655-afb8a03a4ff5",
   "metadata": {},
   "source": [
    "# End of week 1 exercise\n",
    "\n",
    "To demonstrate your familiarity with OpenAI API, and also Ollama, build a tool that takes a technical question,  \n",
    "and responds with an explanation. This is a tool that you will be able to use yourself during the course!"
   ]
  },
  {
   "cell_type": "code",
   "execution_count": 1,
   "id": "c1070317-3ed9-4659-abe3-828943230e03",
   "metadata": {},
   "outputs": [],
   "source": [
    "# imports\n",
    "import os\n",
    "from openai import OpenAI\n",
    "from IPython.display import Markdown, display, update_display\n",
    "from dotenv import load_dotenv"
   ]
  },
  {
   "cell_type": "code",
   "execution_count": 2,
   "id": "4a456906-915a-4bfd-bb9d-57e505c5093f",
   "metadata": {},
   "outputs": [],
   "source": [
    "# constants\n",
    "\n",
    "MODEL_GPT = 'gpt-4o-mini'\n",
    "MODEL_LLAMA = 'llama3.2'"
   ]
  },
  {
   "cell_type": "code",
   "execution_count": 3,
   "id": "a8d7923c-5f28-4c30-8556-342d7c8497c1",
   "metadata": {},
   "outputs": [
    {
     "name": "stdout",
     "output_type": "stream",
     "text": [
      "loaded key successfully\n"
     ]
    }
   ],
   "source": [
    "# set up environment\n",
    "load_dotenv(override=True)\n",
    "api_key = os.getenv('OPENAI_API_KEY')\n",
    "\n",
    "if not api_key:\n",
    "    print('failed to load api_key')\n",
    "elif not api_key.startswith('sk-proj-'):\n",
    "    print('incorrect key')\n",
    "elif api_key.strip() != api_key:\n",
    "    print('leading or training whitespace on api_key')\n",
    "else:\n",
    "    print('loaded key successfully')"
   ]
  },
  {
   "cell_type": "code",
   "execution_count": 3,
   "id": "3f0d0137-52b0-47a8-81a8-11a90a010798",
   "metadata": {},
   "outputs": [],
   "source": [
    "# here is the question; type over this to ask something new\n",
    "\n",
    "question = \"\"\"\n",
    "Please explain what this code does and why:\n",
    "yield from {book.get(\"author\") for book in books if book.get(\"author\")}\n",
    "\"\"\""
   ]
  },
  {
   "cell_type": "code",
   "execution_count": 7,
   "id": "60ce7000-a4a5-4cce-a261-e75ef45063b4",
   "metadata": {},
   "outputs": [
    {
     "data": {
      "text/markdown": [
       "The code you've provided is a line of Python code that uses a generator with a `yield from` statement alongside a set comprehension. Let's break it down step by step.\n",
       "\n",
       "### Components Breakdown:\n",
       "\n",
       "1. **Set Comprehension:**\n",
       "   python\n",
       "   {book.get(\"author\") for book in books if book.get(\"author\")}\n",
       "   \n",
       "   - **`for book in books`**: This part iterates over a collection called `books`, where each `book` is presumably a dictionary or an object from which we can extract an \"author\".\n",
       "   - **`book.get(\"author\")`**: This method attempts to retrieve the value associated with the key \"author\" from each `book`. If there is no such key, it returns `None` (if no default value is specified).\n",
       "   - **`if book.get(\"author\")`**: This condition checks if the `author` exists and is truthy (i.e., not `None`, `''`, `0`, etc.). Only books that have a valid author will be included in the next step.\n",
       "   - **Set Creation**: The result is a set of authors, ensuring that there will be no duplicates due to the nature of sets in Python.\n",
       "\n",
       "2. **`yield from`:**\n",
       "   python\n",
       "   yield from ...\n",
       "   \n",
       "   - The `yield from` statement is used within a generator function. It allows you to yield all values from an iterable (in this case, the set of authors created by the previous part) one at a time.\n",
       "   - This is particularly useful for delegating part of the generator's operations to another iterable.\n",
       "\n",
       "### Summary of What the Code Does:\n",
       "\n",
       "The provided code essentially creates a generator that yields all unique authors from a collection of books. It checks each book for an \"author\" field and includes it only if the field is present and has a truthy value. \n",
       "\n",
       "Moreover, because it uses a set comprehension, it ensures that each author is yielded only once (even if multiple books have the same author).\n",
       "\n",
       "### Use Case:\n",
       "\n",
       "You might use this code within a generator function to efficiently process and return a list of unique authors from a potentially large dataset of books without modifying the original data structure. Here’s a simple use-case example of a generator function:\n",
       "\n",
       "python\n",
       "def unique_authors(books):\n",
       "    yield from {book.get(\"author\") for book in books if book.get(\"author\")}\n",
       "\n",
       "\n",
       "This function could be called with a `books` list, and it would yield each unique author one at a time."
      ],
      "text/plain": [
       "<IPython.core.display.Markdown object>"
      ]
     },
     "metadata": {},
     "output_type": "display_data"
    }
   ],
   "source": [
    "# Get gpt-4o-mini to answer, with streaming\n",
    "openai = OpenAI()\n",
    "one_time_streamed_response = openai.chat.completions.create(\n",
    "    model=MODEL_GPT, \n",
    "    messages=[\n",
    "        {'role': 'user', 'content': question}\n",
    "    ],\n",
    "    stream=True\n",
    ")\n",
    "\n",
    "response = ''\n",
    "display_handle = display(Markdown(''), display_id=True)\n",
    "\n",
    "for chunk in one_time_streamed_response:\n",
    "    response += chunk.choices[0].delta.content or ''\n",
    "    response = response.replace(\"```\",\"\").replace(\"markdown\",\"\")\n",
    "    update_display(Markdown(response), display_id=display_handle.display_id)"
   ]
  },
  {
   "cell_type": "code",
   "execution_count": 5,
   "id": "8f7c8ea8-4082-4ad0-8751-3301adcf6538",
   "metadata": {},
   "outputs": [
    {
     "data": {
      "text/markdown": [
       "This line of code uses a combination of Python's iteration operators (`for` loop, `if`, and `get`) to yield the values of a specific key (\"author\") from each dictionary in a list of dictionaries named `books`.\n",
       "\n",
       "Here's a breakdown:\n",
       "\n",
       "- `{book.get(\"author\") for book in books if book.get(\"author\") }`: This is a generator expression that iterates over the list of dictionaries (`books`). \n",
       "\n",
       "  - It uses another generator expression `(book.get(\"author\"))` to extract the value of the key \"author\" from each dictionary, while iterating over it.\n",
       "  \n",
       "  - The `if book.get(\"author\")` condition ensures that only dictionaries (\"books\") with an existing author are considered for iteration. This prevents potential KeyError exceptions in the subsequent generation and yields.\n",
       "\n",
       "- `yield from ...`: This keyword is used to delegate a sub-object's iteration protocol to another iterable (in this case, another generator expression). \n",
       "\n",
       "  - When `yield from` appears outside of `function def`, it turns an existing iterative object into another. The `yield from` statement takes an iterator and creates new generators by iterating through the elements in this list.\n",
       "  \n",
       "  In summary, the line `yield from {book.get(\"author\") for book in books if book.get(\"author\")}` essentially iterates over all items (\"books\") that have a value associated with the key `\"author\"`, then returns each item's related value.\n",
       "\n",
       "Here is how one may represent it using code written inside an iterable:\n",
       "\n",
       "Python\n",
       "def author_generator(books):\n",
       "    for book in books:\n",
       "        if \"author\" in book:\n",
       "            yield book[\"author\"]\n",
       "\n",
       "book_list = [\n",
       "{'title': 'To Kill a Mockingbird', \n",
       "'author': 'Harper Lee'},\n",
       "{'id': 3, 'name': 'Bob Smith'}, # no author\n",
       "]\n",
       "for author in author_generator(book_list):\n",
       "    print(author) # prints Harper Lee's name\n"
      ],
      "text/plain": [
       "<IPython.core.display.Markdown object>"
      ]
     },
     "metadata": {},
     "output_type": "display_data"
    }
   ],
   "source": [
    "# Get Llama 3.2 to answer\n",
    "# !ollama serve\n",
    "openai = OpenAI(base_url='http://localhost:11434/v1', api_key='ollama')\n",
    "one_time_streamed_response = openai.chat.completions.create(\n",
    "    model=MODEL_LLAMA, \n",
    "    messages=[\n",
    "        {'role': 'user', 'content': question}\n",
    "    ],\n",
    "    stream=True\n",
    ")\n",
    "\n",
    "response = ''\n",
    "display_handle = display(Markdown(''), display_id=True)\n",
    "\n",
    "for chunk in one_time_streamed_response:\n",
    "    response += chunk.choices[0].delta.content or ''\n",
    "    response = response.replace(\"```\",\"\").replace(\"markdown\",\"\")\n",
    "    update_display(Markdown(response), display_id=display_handle.display_id)"
   ]
  },
  {
   "cell_type": "markdown",
   "id": "dbd7e2e5-f3c5-4224-b05b-9cbdf2451243",
   "metadata": {},
   "source": [
    "# making function to take an input"
   ]
  },
  {
   "cell_type": "code",
   "execution_count": 9,
   "id": "63eb9002-0117-4f38-a6d5-e3a193c81fb8",
   "metadata": {},
   "outputs": [
    {
     "data": {
      "text/markdown": [
       "Sure! Here’s a more concise version of your message, retaining its meaning while enhancing clarity:\n",
       "\n",
       "---\n",
       "\n",
       "**Subject: Seeking Advice on Transitioning My Skills to Client Work**\n",
       "\n",
       "Hi Wesley,\n",
       "\n",
       "Thank you for your insights on learning. After leaving university, I quickly realized how essential it is for me to continue growing. My journey has led me to explore both technical and non-technical fields, ultimately landing me at a crossroads. I've spent the past year reflecting on my goals, and I'm focused on building something of my own—either by starting a software startup or by joining a strong team to create something impactful.\n",
       "\n",
       "Since December, I’ve dedicated myself to mastering Python, particularly since I've recognized its role in AI. I've worked with LangChain, the ChatGPT API, and recently built a company brochure generator that curates information based on a homepage URL using AI.\n",
       "\n",
       "I'd love your advice on how to effectively productionize my projects. Specifically, how do I package my skills to attract clients? Did you identify a pain point and create a solution, or did you start by understanding a client's needs before developing a solution? Any resources or tips you could share would be greatly appreciated!\n",
       "\n",
       "Looking forward to your thoughts.\n",
       "\n",
       "Best,  \n",
       "[Your Name]  \n",
       "\n",
       "--- \n",
       "\n",
       "Feel free to modify any part of it according to your preferences!"
      ],
      "text/plain": [
       "<IPython.core.display.Markdown object>"
      ]
     },
     "metadata": {},
     "output_type": "display_data"
    }
   ],
   "source": [
    "system_prompt = \"you're helping me more concisely get my points across without loosing meaning so that the person i am talking to understands better and wants to give me advice on my challenge.  You'll need to help me with what my key point is that I'm trying to make and then rewrite to better achieve that aim and all in a professional, friendly way.  Respond in markdown\"\n",
    "user_prompt = \"\"\"\n",
    "Thanks Wesley, you're right on the learning front - when I left university I thought I was done with learning and quickly discovered I'd be very bored in a job with no learning.  Now I very much enjoy learning but I do struggle to pick one path and stay on it long enough sometimes!  I kept switching between technical and non-technical and ending up somewhere in the middle.. but.. I've reflected over the last year and thought about where I'd like to get to -> build something of my own either by 1. starting my own software startup, or 2. joining a strong team and being a big part of achieving something amazing. So that led me to taking up Python properly for the first time in December.  Although I've done unofficial python projects since before I went to university I never realised it could be a path for me until I realised that it's a core part of AI.   here's some more context on me: So far I've focussed on python and am now starting to work with LangChain and common ChatGPT API calls and also running llama3.2 locally with ollama with most recent project being a company brochure generator using the homepage URL as a starting point and then finding all other links on the page, then using ai to decide which are useful and then another ai to build the brochure from the useful links!  The thing i'd really like to understand and Laura tells me you have some great experience of is how to productionise what you do - that is how do you polish what you offer into a package and get that to clients - perhaps there is somewhere you suggest on a website or otherwise to pick up a first piece of work and how to go about it.  I back my skills, but I can't quite understand how i'd present what i can do to a customer, did you pick a particular pain point and build a solution to it or did you start by researching that and getting a company/person to sign up to needing that solution from you first?\"\n",
    "\"\"\"\n",
    "\n",
    "def ask_chatgpt(user_prompt, system_prompt=None, enable_streaming=True):\n",
    "    if system_prompt:\n",
    "        messages_=[\n",
    "            {'role': 'system', 'content': system_prompt},\n",
    "            {'role': 'user', 'content': user_prompt}\n",
    "        ]\n",
    "    else:\n",
    "        messages_=[\n",
    "            {'role': 'user', 'content': user_prompt}\n",
    "        ]      \n",
    "        \n",
    "    \n",
    "    # Get gpt-4o-mini to answer, with streaming\n",
    "    openai = OpenAI()\n",
    "    response = openai.chat.completions.create(\n",
    "        model=MODEL_GPT, \n",
    "        messages=messages_,\n",
    "        stream=enable_streaming\n",
    "    )\n",
    "\n",
    "    if enable_streaming:\n",
    "        response = ''\n",
    "        display_handle = display(Markdown(''), display_id=True)\n",
    "        \n",
    "        for chunk in one_time_streamed_response:\n",
    "            response += chunk.choices[0].delta.content or ''\n",
    "            response = response.replace(\"```\",\"\").replace(\"markdown\",\"\")\n",
    "            update_display(Markdown(response), display_id=display_handle.display_id)\n",
    "    else:\n",
    "        display(Markdown(response.choices[0].message.content))\n",
    "\n",
    "ask_chatgpt(user_prompt, system_prompt=system_prompt, enable_streaming=False)\n",
    "        "
   ]
  },
  {
   "cell_type": "code",
   "execution_count": null,
   "id": "069a5e55-f143-4458-84a3-1a792e09c836",
   "metadata": {},
   "outputs": [],
   "source": []
  }
 ],
 "metadata": {
  "kernelspec": {
   "display_name": "Python 3 (ipykernel)",
   "language": "python",
   "name": "python3"
  },
  "language_info": {
   "codemirror_mode": {
    "name": "ipython",
    "version": 3
   },
   "file_extension": ".py",
   "mimetype": "text/x-python",
   "name": "python",
   "nbconvert_exporter": "python",
   "pygments_lexer": "ipython3",
   "version": "3.12.6"
  }
 },
 "nbformat": 4,
 "nbformat_minor": 5
}
