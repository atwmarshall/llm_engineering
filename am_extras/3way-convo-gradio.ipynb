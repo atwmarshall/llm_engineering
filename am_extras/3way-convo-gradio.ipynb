{
 "cells": [
  {
   "cell_type": "code",
   "execution_count": 21,
   "id": "de23bb9e-37c5-4377-9a82-d7b6c648eeb6",
   "metadata": {},
   "outputs": [],
   "source": [
    "# imports\n",
    "\n",
    "import os\n",
    "from dotenv import load_dotenv\n",
    "from openai import OpenAI\n",
    "import anthropic\n",
    "from IPython.display import Markdown, display, update_display"
   ]
  },
  {
   "cell_type": "code",
   "execution_count": 24,
   "id": "f0a8ab2b-6134-4104-a1bc-c3cd7ea4cd36",
   "metadata": {},
   "outputs": [],
   "source": [
    "# import for google\n",
    "# in rare cases, this seems to give an error on some systems, or even crashes the kernel\n",
    "# If this happens to you, simply ignore this cell - I give an alternative approach for using Gemini later\n",
    "import google.generativeai"
   ]
  },
  {
   "cell_type": "code",
   "execution_count": 25,
   "id": "1179b4c5-cd1f-4131-a876-4c9f3f38d2ba",
   "metadata": {},
   "outputs": [
    {
     "name": "stdout",
     "output_type": "stream",
     "text": [
      "OpenAI API Key exists and begins sk-proj-\n",
      "Anthropic API Key exists and begins sk-ant-\n",
      "Google API Key exists and begins AIzaSyC1\n"
     ]
    }
   ],
   "source": [
    "# Load environment variables in a file called .env\n",
    "# Print the key prefixes to help with any debugging\n",
    "\n",
    "load_dotenv()\n",
    "openai_api_key = os.getenv('OPENAI_API_KEY')\n",
    "anthropic_api_key = os.getenv('ANTHROPIC_API_KEY')\n",
    "google_api_key = os.getenv('GOOGLE_API_KEY')\n",
    "\n",
    "if openai_api_key:\n",
    "    print(f\"OpenAI API Key exists and begins {openai_api_key[:8]}\")\n",
    "else:\n",
    "    print(\"OpenAI API Key not set\")\n",
    "    \n",
    "if anthropic_api_key:\n",
    "    print(f\"Anthropic API Key exists and begins {anthropic_api_key[:7]}\")\n",
    "else:\n",
    "    print(\"Anthropic API Key not set\")\n",
    "\n",
    "if google_api_key:\n",
    "    print(f\"Google API Key exists and begins {google_api_key[:8]}\")\n",
    "else:\n",
    "    print(\"Google API Key not set\")"
   ]
  },
  {
   "cell_type": "code",
   "execution_count": 26,
   "id": "797fe7b0-ad43-42d2-acf0-e4f309b112f0",
   "metadata": {},
   "outputs": [],
   "source": [
    "# Connect to OpenAI, Anthropic\n",
    "\n",
    "openai = OpenAI()\n",
    "\n",
    "claude = anthropic.Anthropic()"
   ]
  },
  {
   "cell_type": "code",
   "execution_count": 27,
   "id": "425ed580-808d-429b-85b0-6cba50ca1d0c",
   "metadata": {},
   "outputs": [],
   "source": [
    "# This is the set up code for Gemini\n",
    "# Having problems with Google Gemini setup? Then just ignore this cell; when we use Gemini, I'll give you an alternative that bypasses this library altogether\n",
    "\n",
    "google.generativeai.configure()"
   ]
  },
  {
   "cell_type": "markdown",
   "id": "e2271f8d-ea72-446c-8a6e-cd2dc38b620f",
   "metadata": {},
   "source": [
    "# Three way convo"
   ]
  },
  {
   "cell_type": "code",
   "execution_count": 28,
   "id": "45ae9e5d-b281-48dc-b0b3-d604956b0c08",
   "metadata": {},
   "outputs": [],
   "source": [
    "gemini_via_openai_client = OpenAI(\n",
    "    api_key=google_api_key, \n",
    "    base_url=\"https://generativelanguage.googleapis.com/v1beta/openai/\"\n",
    ")\n"
   ]
  },
  {
   "cell_type": "code",
   "execution_count": 60,
   "id": "98354b88-14c2-4035-a208-257a8c0b2385",
   "metadata": {},
   "outputs": [],
   "source": [
    "openai = OpenAI(base_url='http://localhost:11434/v1', api_key='ollama')\n",
    "MODEL = \"llama3.2\""
   ]
  },
  {
   "cell_type": "code",
   "execution_count": 167,
   "id": "5788adef-d66b-45db-97b8-47400457afbc",
   "metadata": {},
   "outputs": [],
   "source": [
    "system_prompt_base_improv_game = f\"ONLY RETURN ONE LINE IN AN IMPROV SONG. You are performing improv with two friends, you must improvise an entertaining song, each taking it in turns to add a line. \"\n",
    "system_prompt_famous = system_prompt_base_improv_game +  \" You love famous songs and always sing lines from them.\"\n",
    "system_prompt_cheeky_expert = system_prompt_base_improv_game +  \" You are a playful bard expert at the trade a master of making them playful and cheeky. Your lines take drastic turns.\"\n",
    "system_prompt_expert = system_prompt_base_improv_game +  \" You are a very stern and serious expert song writer and intent on getting the song back on track after any improv lines that take drastic or silly turns\"\n",
    "\n",
    "def set_messages(a_set_value=\"\", b_set_value=\"\", c_set_value=\"\"):\n",
    "    a_messages = [a_set_value]#[\"The wheels on\"]\n",
    "    b_messages = [b_set_value]#[\"the bus go\"]\n",
    "    c_messages = [c_set_value]#[\"round and round\"]\n",
    "    return a_messages, b_messages, c_messages\n",
    "\n",
    "\n",
    "a_messages, b_messages, c_messages = reset_messages()\n",
    "    \n",
    "\n",
    "def call_assistant(system_prompt, assistant_no):\n",
    "    '''\n",
    "    system_prompt: str -> explain your assistants role in the conversation\n",
    "    assistant_no: int [0,2] -> \n",
    "    '''\n",
    "    messages = [\n",
    "        {'role': 'system', 'content':system_prompt}\n",
    "    ]\n",
    "    \n",
    "    a_role = 'assistant' if assistant_no == 0 else 'user'\n",
    "    b_role = 'assistant' if assistant_no == 1 else 'user'\n",
    "    c_role = 'assistant' if assistant_no == 2 else 'user'\n",
    "    \n",
    "    for a, b, c in zip(a_messages, b_messages, c_messages):\n",
    "        if a != \"\": messages.append({'role': a_role, 'content':a})\n",
    "        if b != \"\": messages.append({'role': b_role, 'content':b}) \n",
    "        if c != \"\": messages.append({'role': c_role, 'content':c})\n",
    "    \n",
    "    if assistant_no == 0:\n",
    "        pass\n",
    "    elif assistant_no == 1:\n",
    "        messages.append({'role': 'user', 'content':a_messages[-1]})\n",
    "    elif assistant_no == 2:\n",
    "        messages.append({'role': 'user', 'content':a_messages[-1]})\n",
    "        messages.append({'role': 'user', 'content':b_messages[-1]})\n",
    "\n",
    "    result = openai.chat.completions.create(\n",
    "        model = 'llama3.2',\n",
    "        messages = messages\n",
    "    )\n",
    "    output = result.choices[0].message.content\n",
    "    print(output)\n",
    "    return output\n"
   ]
  },
  {
   "cell_type": "code",
   "execution_count": 120,
   "id": "e4577b44-6b17-4e86-8d90-1f577aa52f7b",
   "metadata": {},
   "outputs": [
    {
     "name": "stdout",
     "output_type": "stream",
     "text": [
      "[''] [''] ['']\n"
     ]
    }
   ],
   "source": [
    "print(\n",
    "    a_messages,\n",
    "    b_messages,\n",
    "    c_messages\n",
    ")"
   ]
  },
  {
   "cell_type": "code",
   "execution_count": 121,
   "id": "5356352a-98a1-4709-a63c-824c475e518e",
   "metadata": {},
   "outputs": [
    {
     "name": "stdout",
     "output_type": "stream",
     "text": [
      "\n"
     ]
    }
   ],
   "source": [
    "a_messages.append(call_assistant(system_prompt_famous, 0))"
   ]
  },
  {
   "cell_type": "code",
   "execution_count": 114,
   "id": "c94454bb-ba80-4899-be76-bc63f20912cd",
   "metadata": {},
   "outputs": [
    {
     "name": "stdout",
     "output_type": "stream",
     "text": [
      "\"I woke up this morning, my cat had taken over\"\n"
     ]
    }
   ],
   "source": [
    "b_messages.append(call_assistant(system_prompt_cheeky_expert, 1))"
   ]
  },
  {
   "cell_type": "code",
   "execution_count": 115,
   "id": "a16e5e46-6fa5-4bd1-a2de-58b26d2271d0",
   "metadata": {},
   "outputs": [
    {
     "name": "stdout",
     "output_type": "stream",
     "text": [
      "But what I want to say is, \"And started rewriting all of Shakespeare's plays\" (clearly a return to literary form)\n"
     ]
    }
   ],
   "source": [
    "c_messages.append(call_assistant(system_prompt_expert, 2))"
   ]
  },
  {
   "cell_type": "code",
   "execution_count": 181,
   "id": "37bc55a2-a10b-49a7-b208-515fd055f159",
   "metadata": {},
   "outputs": [],
   "source": [
    "def my_improv_song(improv_song_line1=\"\", improv_song_line2=\"\", improv_song_line3=\"\"):\n",
    "    a_messages, b_messages, c_messages = set_messages(improv_song_line1, improv_song_line2, improv_song_line3)\n",
    "    # print(a_messages, b_messages, c_messages)\n",
    "    for i in range(1):\n",
    "        # print(\"1Beginner         :    \", end=\"\")\n",
    "        a_messages.append(call_assistant(system_prompt_beginner, 0))\n",
    "        # print(\"2Cheeky expert    :    \", end=\"\")\n",
    "        b_messages.append(call_assistant(system_prompt_cheeky_expert, 1))\n",
    "        # print(\"3Expert           :    \", end=\"\")\n",
    "        c_messages.append(call_assistant(system_prompt_expert, 2))\n",
    "    # yield from list(song_builder(a_messages, b_messages, c_messages))\n",
    "    stream_response = \"\"\n",
    "    for chunk in list(song_builder(a_messages, b_messages, c_messages)):\n",
    "        stream_response += chunk + '\\n'\n",
    "        time.sleep(0.5)\n",
    "        yield stream_response\n",
    "#my_improv_song()\n",
    "\n",
    "def streaming_the_song(improv_song_line1=\"\", improv_song_line2=\"\", improv_song_line3=\"\"):\n",
    "    song = my_improv_song(improv_song_line1, improv_song_line2, improv_song_line3)\n",
    "    streamer(list(song))\n",
    "    return list(song)"
   ]
  },
  {
   "cell_type": "code",
   "execution_count": 169,
   "id": "600ef12e-c3c3-47ae-8895-3881abd17bdc",
   "metadata": {},
   "outputs": [
    {
     "name": "stdout",
     "output_type": "stream",
     "text": [
      "\n",
      "I woke up feeling like a chicken wearing a tutu on roller skates!\n",
      "\"I woke up this morning with my socks on backwards\"\n",
      "\n",
      "(starts singing) Oh I woke up this mornin', my cat had taken my shoe!\n",
      "(sighing) Fine, let's try again. Here's my first line: \"In the depths of despair, I found my only friend\"\n",
      "\n",
      "Now it's your turn... (eyebrow raised in expectation)\n",
      "\n",
      "I think I forgot to write something! Let me try again.\n",
      "\n",
      "(starting with my friend who goes first) \n",
      "\n",
      "\"In a land far, far away\"\n",
      "\n",
      "(my turn)\n",
      "where aliens danced the salsa in their undies one day!\n",
      "\n",
      "(my friend's turn) \n",
      "They wore so many tutus they got tangled up in their own tie pants\n",
      "(sighing) \"Alright, let's get this serious composition started... 'In the town of sorrow, where the streets are made of pain'\".\n",
      "I woke up feeling like a chicken wearing a tutu on roller skates!\"I woke up this morning with my socks on backwards\"(starts singing) Oh I woke up this mornin', my cat had taken my shoe!(sighing) Fine, let's try again. Here's my first line: \"In the depths of despair, I found my only friend\"\n",
      "\n",
      "Now it's your turn... (eyebrow raised in expectation)I think I forgot to write something! Let me try again.\n",
      "\n",
      "(starting with my friend who goes first) \n",
      "\n",
      "\"In a land far, far away\"\n",
      "\n",
      "(my turn)\n",
      "where aliens danced the salsa in their undies one day!\n",
      "\n",
      "(my friend's turn) \n",
      "They wore so many tutus they got tangled up in their own tie pants(sighing) \"Alright, let's get this serious composition started... 'In the town of sorrow, where the streets are made of pain'\"."
     ]
    }
   ],
   "source": [
    "streaming_the_song()"
   ]
  },
  {
   "cell_type": "markdown",
   "id": "abfb6a34-7e20-48cd-9f85-a78ffdd9b892",
   "metadata": {},
   "source": [
    "# Adding Gradio"
   ]
  },
  {
   "cell_type": "code",
   "execution_count": 182,
   "id": "7c71fef0-c4a0-410d-ae7c-d75aca6c2974",
   "metadata": {},
   "outputs": [
    {
     "name": "stdout",
     "output_type": "stream",
     "text": [
      "* Running on local URL:  http://127.0.0.1:7878\n",
      "\n",
      "To create a public link, set `share=True` in `launch()`.\n"
     ]
    },
    {
     "data": {
      "text/html": [
       "<div><iframe src=\"http://127.0.0.1:7878/\" width=\"100%\" height=\"500\" allow=\"autoplay; camera; microphone; clipboard-read; clipboard-write;\" frameborder=\"0\" allowfullscreen></iframe></div>"
      ],
      "text/plain": [
       "<IPython.core.display.HTML object>"
      ]
     },
     "metadata": {},
     "output_type": "display_data"
    },
    {
     "data": {
      "text/plain": []
     },
     "execution_count": 182,
     "metadata": {},
     "output_type": "execute_result"
    },
    {
     "name": "stdout",
     "output_type": "stream",
     "text": [
      "\n",
      "(singing)\n",
      "In the land of silly socks, where chickens wear hats... your turn!\n",
      "\"I woke up this morning with my world crashing down\" (spoken sternly expectantly)\n"
     ]
    }
   ],
   "source": [
    "import gradio as gr\n",
    "\n",
    "def my_func(inp1, inp2):\n",
    "    return inp1 + inp2\n",
    "\n",
    "\n",
    "view = gr.Interface(\n",
    "    fn=my_improv_song,\n",
    "    inputs=[\n",
    "        gr.Textbox(label=\"Beginner ai improv singer: Start an improv song with this line:\"),\n",
    "        gr.Textbox(label=\"Cheeky expert ai improv singer: and this optional 2nd line\"),\n",
    "        gr.Textbox(label=\"Expert ai improv singer: and this optional 3rd line\")\n",
    "    ],\n",
    "    outputs=[\n",
    "        gr.Textbox(label=\"Song (it may not be musical):\")\n",
    "    ],\n",
    "    flagging_mode=\"never\"\n",
    ")\n",
    "view.launch()"
   ]
  },
  {
   "cell_type": "code",
   "execution_count": 165,
   "id": "0f6e4d39-07dd-4707-8617-d3991afda1ef",
   "metadata": {},
   "outputs": [
    {
     "data": {
      "text/plain": [
       "[1, 1, 7, 2, 2, 7, 3, '3a', 7, 'magic', 4]"
      ]
     },
     "execution_count": 165,
     "metadata": {},
     "output_type": "execute_result"
    }
   ],
   "source": [
    "from functools import reduce\n",
    "a = [1,2,3,'magic']\n",
    "b = [1,2,'3a',4]\n",
    "c = [7,7,7]\n",
    "\n",
    "# def song_builder(*singer_n_lines):\n",
    "#     messages_in_order = list(reduce(lambda x, y: x+y, zip(*singer_n_lines)))\n",
    "#     return messages_in_order\n",
    "\n",
    "def song_builder(singer_1_lines, singer_2_lines, singer_3_lines):\n",
    "    \n",
    "    messages_in_order = list(reduce(lambda x, y: x+y, zip(singer_1_lines, singer_2_lines, singer_3_lines)))\n",
    "\n",
    "    if len(singer_1_lines)>len(singer_2_lines):\n",
    "        messages_in_order.append(singer_1_lines[-1])\n",
    "    elif len(singer_2_lines)>len(singer_3_lines):\n",
    "        messages_in_order.append(singer_1_lines[-1])\n",
    "        messages_in_order.append(singer_2_lines[-1])\n",
    "    \n",
    "    return messages_in_order\n",
    "    \n",
    "song_builder(a,b,c)"
   ]
  },
  {
   "cell_type": "code",
   "execution_count": 162,
   "id": "eaec3cea-68b8-4be4-a241-e4f9fe33a8a8",
   "metadata": {},
   "outputs": [],
   "source": [
    "import time\n",
    "\n",
    "def streamer(list_of_chunks):\n",
    "    for chunk in list_of_chunks:\n",
    "        print(chunk, end=\"\", flush=True)\n",
    "        time.sleep(0.5) # 0.02"
   ]
  },
  {
   "cell_type": "code",
   "execution_count": null,
   "id": "f9facd0b-90ab-4a50-b581-e4c3e0c9138b",
   "metadata": {},
   "outputs": [],
   "source": []
  }
 ],
 "metadata": {
  "kernelspec": {
   "display_name": "Python 3 (ipykernel)",
   "language": "python",
   "name": "python3"
  },
  "language_info": {
   "codemirror_mode": {
    "name": "ipython",
    "version": 3
   },
   "file_extension": ".py",
   "mimetype": "text/x-python",
   "name": "python",
   "nbconvert_exporter": "python",
   "pygments_lexer": "ipython3",
   "version": "3.12.6"
  }
 },
 "nbformat": 4,
 "nbformat_minor": 5
}
